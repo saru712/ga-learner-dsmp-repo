{
 "cells": [
  {
   "cell_type": "code",
   "execution_count": 1,
   "metadata": {},
   "outputs": [],
   "source": [
    "import numpy as np\n",
    "import pandas as pd\n",
    "import seaborn as sns\n",
    "import matplotlib.pyplot as plt\n",
    "from sklearn.model_selection import train_test_split\n",
    "from sklearn.model_selection import GridSearchCV, RandomizedSearchCV\n",
    "from sklearn.linear_model import LogisticRegression\n",
    "from sklearn.metrics import accuracy_score, precision_score, recall_score, f1_score, confusion_matrix\n",
    "from sklearn.metrics import roc_auc_score\n",
    "from sklearn import metrics\n",
    "\n",
    "import warnings\n",
    "warnings.filterwarnings('ignore')"
   ]
  },
  {
   "cell_type": "code",
   "execution_count": 164,
   "metadata": {
    "scrolled": true
   },
   "outputs": [
    {
     "data": {
      "text/html": [
       "<div>\n",
       "<style scoped>\n",
       "    .dataframe tbody tr th:only-of-type {\n",
       "        vertical-align: middle;\n",
       "    }\n",
       "\n",
       "    .dataframe tbody tr th {\n",
       "        vertical-align: top;\n",
       "    }\n",
       "\n",
       "    .dataframe thead th {\n",
       "        text-align: right;\n",
       "    }\n",
       "</style>\n",
       "<table border=\"1\" class=\"dataframe\">\n",
       "  <thead>\n",
       "    <tr style=\"text-align: right;\">\n",
       "      <th></th>\n",
       "      <th>Id</th>\n",
       "      <th>age</th>\n",
       "      <th>sex</th>\n",
       "      <th>bmi</th>\n",
       "      <th>children</th>\n",
       "      <th>smoker</th>\n",
       "      <th>region</th>\n",
       "      <th>charges</th>\n",
       "      <th>insuranceclaim</th>\n",
       "    </tr>\n",
       "  </thead>\n",
       "  <tbody>\n",
       "    <tr>\n",
       "      <th>0</th>\n",
       "      <td>1182</td>\n",
       "      <td>25</td>\n",
       "      <td>0</td>\n",
       "      <td>30.30</td>\n",
       "      <td>0</td>\n",
       "      <td>0</td>\n",
       "      <td>3</td>\n",
       "      <td>2632.9920</td>\n",
       "      <td>1</td>\n",
       "    </tr>\n",
       "    <tr>\n",
       "      <th>1</th>\n",
       "      <td>990</td>\n",
       "      <td>26</td>\n",
       "      <td>0</td>\n",
       "      <td>19.80</td>\n",
       "      <td>1</td>\n",
       "      <td>0</td>\n",
       "      <td>3</td>\n",
       "      <td>3378.9100</td>\n",
       "      <td>0</td>\n",
       "    </tr>\n",
       "    <tr>\n",
       "      <th>2</th>\n",
       "      <td>123</td>\n",
       "      <td>44</td>\n",
       "      <td>1</td>\n",
       "      <td>31.35</td>\n",
       "      <td>1</td>\n",
       "      <td>1</td>\n",
       "      <td>0</td>\n",
       "      <td>39556.4945</td>\n",
       "      <td>1</td>\n",
       "    </tr>\n",
       "    <tr>\n",
       "      <th>3</th>\n",
       "      <td>184</td>\n",
       "      <td>44</td>\n",
       "      <td>1</td>\n",
       "      <td>30.69</td>\n",
       "      <td>2</td>\n",
       "      <td>0</td>\n",
       "      <td>2</td>\n",
       "      <td>7731.4271</td>\n",
       "      <td>0</td>\n",
       "    </tr>\n",
       "    <tr>\n",
       "      <th>4</th>\n",
       "      <td>1167</td>\n",
       "      <td>29</td>\n",
       "      <td>0</td>\n",
       "      <td>24.60</td>\n",
       "      <td>2</td>\n",
       "      <td>0</td>\n",
       "      <td>3</td>\n",
       "      <td>4529.4770</td>\n",
       "      <td>0</td>\n",
       "    </tr>\n",
       "  </tbody>\n",
       "</table>\n",
       "</div>"
      ],
      "text/plain": [
       "     Id  age  sex    bmi  children  smoker  region     charges  insuranceclaim\n",
       "0  1182   25    0  30.30         0       0       3   2632.9920               1\n",
       "1   990   26    0  19.80         1       0       3   3378.9100               0\n",
       "2   123   44    1  31.35         1       1       0  39556.4945               1\n",
       "3   184   44    1  30.69         2       0       2   7731.4271               0\n",
       "4  1167   29    0  24.60         2       0       3   4529.4770               0"
      ]
     },
     "execution_count": 164,
     "metadata": {},
     "output_type": "execute_result"
    }
   ],
   "source": [
    "data =pd.read_csv('train.csv')\n",
    "data.head()"
   ]
  },
  {
   "cell_type": "code",
   "execution_count": 178,
   "metadata": {},
   "outputs": [
    {
     "data": {
      "text/html": [
       "<div>\n",
       "<style scoped>\n",
       "    .dataframe tbody tr th:only-of-type {\n",
       "        vertical-align: middle;\n",
       "    }\n",
       "\n",
       "    .dataframe tbody tr th {\n",
       "        vertical-align: top;\n",
       "    }\n",
       "\n",
       "    .dataframe thead th {\n",
       "        text-align: right;\n",
       "    }\n",
       "</style>\n",
       "<table border=\"1\" class=\"dataframe\">\n",
       "  <thead>\n",
       "    <tr style=\"text-align: right;\">\n",
       "      <th></th>\n",
       "      <th>Id</th>\n",
       "      <th>age</th>\n",
       "      <th>sex</th>\n",
       "      <th>bmi</th>\n",
       "      <th>children</th>\n",
       "      <th>smoker</th>\n",
       "      <th>region</th>\n",
       "      <th>charges</th>\n",
       "    </tr>\n",
       "  </thead>\n",
       "  <tbody>\n",
       "    <tr>\n",
       "      <th>0</th>\n",
       "      <td>811</td>\n",
       "      <td>33</td>\n",
       "      <td>0</td>\n",
       "      <td>42.940</td>\n",
       "      <td>3</td>\n",
       "      <td>0</td>\n",
       "      <td>1</td>\n",
       "      <td>6360.99360</td>\n",
       "    </tr>\n",
       "    <tr>\n",
       "      <th>1</th>\n",
       "      <td>973</td>\n",
       "      <td>19</td>\n",
       "      <td>0</td>\n",
       "      <td>40.500</td>\n",
       "      <td>0</td>\n",
       "      <td>0</td>\n",
       "      <td>3</td>\n",
       "      <td>1759.33800</td>\n",
       "    </tr>\n",
       "    <tr>\n",
       "      <th>2</th>\n",
       "      <td>308</td>\n",
       "      <td>58</td>\n",
       "      <td>1</td>\n",
       "      <td>34.865</td>\n",
       "      <td>0</td>\n",
       "      <td>0</td>\n",
       "      <td>0</td>\n",
       "      <td>11944.59435</td>\n",
       "    </tr>\n",
       "    <tr>\n",
       "      <th>3</th>\n",
       "      <td>845</td>\n",
       "      <td>60</td>\n",
       "      <td>0</td>\n",
       "      <td>32.450</td>\n",
       "      <td>0</td>\n",
       "      <td>1</td>\n",
       "      <td>2</td>\n",
       "      <td>45008.95550</td>\n",
       "    </tr>\n",
       "    <tr>\n",
       "      <th>4</th>\n",
       "      <td>1050</td>\n",
       "      <td>44</td>\n",
       "      <td>0</td>\n",
       "      <td>36.955</td>\n",
       "      <td>1</td>\n",
       "      <td>0</td>\n",
       "      <td>1</td>\n",
       "      <td>8023.13545</td>\n",
       "    </tr>\n",
       "    <tr>\n",
       "      <th>...</th>\n",
       "      <td>...</td>\n",
       "      <td>...</td>\n",
       "      <td>...</td>\n",
       "      <td>...</td>\n",
       "      <td>...</td>\n",
       "      <td>...</td>\n",
       "      <td>...</td>\n",
       "      <td>...</td>\n",
       "    </tr>\n",
       "    <tr>\n",
       "      <th>263</th>\n",
       "      <td>461</td>\n",
       "      <td>42</td>\n",
       "      <td>1</td>\n",
       "      <td>30.000</td>\n",
       "      <td>0</td>\n",
       "      <td>1</td>\n",
       "      <td>3</td>\n",
       "      <td>22144.03200</td>\n",
       "    </tr>\n",
       "    <tr>\n",
       "      <th>264</th>\n",
       "      <td>626</td>\n",
       "      <td>36</td>\n",
       "      <td>1</td>\n",
       "      <td>28.880</td>\n",
       "      <td>3</td>\n",
       "      <td>0</td>\n",
       "      <td>0</td>\n",
       "      <td>6748.59120</td>\n",
       "    </tr>\n",
       "    <tr>\n",
       "      <th>265</th>\n",
       "      <td>614</td>\n",
       "      <td>20</td>\n",
       "      <td>0</td>\n",
       "      <td>33.000</td>\n",
       "      <td>0</td>\n",
       "      <td>0</td>\n",
       "      <td>2</td>\n",
       "      <td>1880.07000</td>\n",
       "    </tr>\n",
       "    <tr>\n",
       "      <th>266</th>\n",
       "      <td>636</td>\n",
       "      <td>19</td>\n",
       "      <td>0</td>\n",
       "      <td>24.510</td>\n",
       "      <td>1</td>\n",
       "      <td>0</td>\n",
       "      <td>1</td>\n",
       "      <td>2709.11190</td>\n",
       "    </tr>\n",
       "    <tr>\n",
       "      <th>267</th>\n",
       "      <td>1224</td>\n",
       "      <td>41</td>\n",
       "      <td>1</td>\n",
       "      <td>23.940</td>\n",
       "      <td>1</td>\n",
       "      <td>0</td>\n",
       "      <td>0</td>\n",
       "      <td>6858.47960</td>\n",
       "    </tr>\n",
       "  </tbody>\n",
       "</table>\n",
       "<p>268 rows × 8 columns</p>\n",
       "</div>"
      ],
      "text/plain": [
       "       Id  age  sex     bmi  children  smoker  region      charges\n",
       "0     811   33    0  42.940         3       0       1   6360.99360\n",
       "1     973   19    0  40.500         0       0       3   1759.33800\n",
       "2     308   58    1  34.865         0       0       0  11944.59435\n",
       "3     845   60    0  32.450         0       1       2  45008.95550\n",
       "4    1050   44    0  36.955         1       0       1   8023.13545\n",
       "..    ...  ...  ...     ...       ...     ...     ...          ...\n",
       "263   461   42    1  30.000         0       1       3  22144.03200\n",
       "264   626   36    1  28.880         3       0       0   6748.59120\n",
       "265   614   20    0  33.000         0       0       2   1880.07000\n",
       "266   636   19    0  24.510         1       0       1   2709.11190\n",
       "267  1224   41    1  23.940         1       0       0   6858.47960\n",
       "\n",
       "[268 rows x 8 columns]"
      ]
     },
     "execution_count": 178,
     "metadata": {},
     "output_type": "execute_result"
    }
   ],
   "source": [
    "test1 = pd.read_csv('test.csv')\n",
    "test.head()\n",
    "# test.drop('Id',axis=1,inplace=True)\n",
    "test1"
   ]
  },
  {
   "cell_type": "markdown",
   "metadata": {},
   "source": [
    "### Load the dataset\n",
    "\n",
    "- Load the train data and using all your knowledge of pandas try to explore the different statistical properties of the dataset."
   ]
  },
  {
   "cell_type": "code",
   "execution_count": 166,
   "metadata": {},
   "outputs": [],
   "source": [
    "\n",
    "X = data.iloc[:,:-1]\n",
    "X\n",
    "y = data['insuranceclaim']\n",
    "X_train, X_test, y_train, y_test = train_test_split(X, y, test_size=0.28,random_state=100)"
   ]
  },
  {
   "cell_type": "code",
   "execution_count": 167,
   "metadata": {
    "scrolled": false
   },
   "outputs": [],
   "source": [
    "# X_train.shape\n",
    "# X_test.shape\n",
    "# y_train.head()\n",
    "# y_test.head()"
   ]
  },
  {
   "cell_type": "markdown",
   "metadata": {},
   "source": [
    "### EDA & Data Preprocessing\n",
    "\n",
    "- Check for the categorical & continuous features. \n",
    "- Check out the best plots for plotting between categorical target and continuous features and try making some inferences from these plots."
   ]
  },
  {
   "cell_type": "code",
   "execution_count": 168,
   "metadata": {
    "scrolled": true
   },
   "outputs": [
    {
     "name": "stdout",
     "output_type": "stream",
     "text": [
      "q_value:  40.87049999999999\n",
      "1    428\n",
      "0    342\n",
      "Name: insuranceclaim, dtype: int64\n"
     ]
    },
    {
     "data": {
      "image/png": "[encoded data removed]",
      "text/plain": [
       "<Figure size 432x288 with 1 Axes>"
      ]
     },
     "metadata": {
      "needs_background": "light"
     },
     "output_type": "display_data"
    }
   ],
   "source": [
    "X_train.boxplot(column=['bmi'])\n",
    "\n",
    "q_value = X_train['bmi'].quantile(0.95)\n",
    "print(\"q_value: \", q_value)\n",
    "\n",
    "print(y_train.value_counts(normalize=False))"
   ]
  },
  {
   "cell_type": "code",
   "execution_count": 169,
   "metadata": {
    "scrolled": true
   },
   "outputs": [
    {
     "name": "stdout",
     "output_type": "stream",
     "text": [
      "relation: \n",
      "                 Id       age       sex       bmi  children    smoker  \\\n",
      "Id        1.000000 -0.053864  0.021105 -0.029367  0.040895 -0.002216   \n",
      "age      -0.053864  1.000000 -0.029967  0.093549  0.108584 -0.027842   \n",
      "sex       0.021105 -0.029967  1.000000  0.059973  0.008854  0.081520   \n",
      "bmi      -0.029367  0.093549  0.059973  1.000000  0.025485 -0.020383   \n",
      "children  0.040895  0.108584  0.008854  0.025485  1.000000  0.004568   \n",
      "smoker   -0.002216 -0.027842  0.081520 -0.020383  0.004568  1.000000   \n",
      "region   -0.012890 -0.025832  0.030225  0.158222  0.047344 -0.022029   \n",
      "charges  -0.026994  0.324113  0.059763  0.183361  0.096387  0.756451   \n",
      "\n",
      "            region   charges  \n",
      "Id       -0.012890 -0.026994  \n",
      "age      -0.025832  0.324113  \n",
      "sex       0.030225  0.059763  \n",
      "bmi       0.158222  0.183361  \n",
      "children  0.047344  0.096387  \n",
      "smoker   -0.022029  0.756451  \n",
      "region    1.000000 -0.039719  \n",
      "charges  -0.039719  1.000000  \n"
     ]
    }
   ],
   "source": [
    "relation = X_train.corr()\n",
    "print(\"relation: \\n\", relation)\n",
    "\n",
    "# sns.pairplot(X_train)"
   ]
  },
  {
   "cell_type": "code",
   "execution_count": 170,
   "metadata": {},
   "outputs": [
    {
     "data": {
      "image/png": "[encoded data removed]",
      "text/plain": [
       "<Figure size 1440x1440 with 4 Axes>"
      ]
     },
     "metadata": {
      "needs_background": "light"
     },
     "output_type": "display_data"
    }
   ],
   "source": [
    "cols = ['children','sex','region','smoker']\n",
    "\n",
    "fig, axes = plt.subplots(nrows = 2, ncols = 2, figsize=(20,20))\n",
    "for i in range(2):\n",
    "    for j in range(2):\n",
    "        col = cols[ i * 2 + j]\n",
    "        sns.countplot(x = X_train[col], hue = y_train, ax = axes[i,j])"
   ]
  },
  {
   "cell_type": "markdown",
   "metadata": {},
   "source": [
    "### Model building\n",
    "\n",
    "- Separate the features and target and then split the train data into train and validation set.\n",
    "- Now let's come to the actual task, using logistic regression, predict the insuranceclaim. Select the best model by cross-validation using Grid Search.\n",
    "- Try improving upon the `roc_auc_score` using different parameters for Grid Search that give the best score.\n",
    "\n"
   ]
  },
  {
   "cell_type": "code",
   "execution_count": 171,
   "metadata": {},
   "outputs": [
    {
     "data": {
      "text/plain": [
       "0.8233333333333334"
      ]
     },
     "execution_count": 171,
     "metadata": {},
     "output_type": "execute_result"
    }
   ],
   "source": [
    "# parameters for grid search\n",
    "# parameters = {'C':[0.1,0.5,1,5]}\n",
    "parameters = {'C':[.2,.4,.6,.8,2,6,8]}\n",
    "\n",
    "\n",
    "lr = LogisticRegression()\n",
    "grid = GridSearchCV(estimator = lr, param_grid = parameters)\n",
    "grid.fit(X_train, y_train)\n",
    "y_pred = grid.predict(X_test)\n",
    "accuracy = accuracy_score(y_pred, y_test)\n",
    "accuracy"
   ]
  },
  {
   "cell_type": "code",
   "execution_count": 172,
   "metadata": {},
   "outputs": [
    {
     "name": "stdout",
     "output_type": "stream",
     "text": [
      "roc_auc:  0.9196759259259258\n"
     ]
    },
    {
     "data": {
      "image/png": "[encoded data removed]",
      "text/plain": [
       "<Figure size 432x288 with 1 Axes>"
      ]
     },
     "metadata": {
      "needs_background": "light"
     },
     "output_type": "display_data"
    }
   ],
   "source": [
    "\n",
    "score = roc_auc_score(y_pred, y_test)\n",
    "y_pred_proba = grid.predict_proba(X_test)[:,1]\n",
    "\n",
    "fpr, tpr, th = metrics.roc_curve(y_test, y_pred_proba)\n",
    "roc_auc = roc_auc_score(y_test, y_pred_proba)\n",
    "print(\"roc_auc: \",roc_auc)\n",
    "\n",
    "plt.plot(fpr, tpr, label=\"Logistic model, auc= \"+str(roc_auc))\n",
    "plt.show()\n",
    "\n",
    "# Code ends here"
   ]
  },
  {
   "cell_type": "markdown",
   "metadata": {},
   "source": [
    "### Prediction on the test data and creating the sample submission file.\n",
    "\n",
    "- Load the test data and store the `Id` column in a separate variable.\n",
    "- Perform the same operations on the test data that you have performed on the train data.\n",
    "- Create the submission file as a `csv` file consisting of the `Id` column from the test data and your prediction as the second column."
   ]
  },
  {
   "cell_type": "code",
   "execution_count": 179,
   "metadata": {
    "scrolled": false
   },
   "outputs": [],
   "source": [
    "test = pd.read_csv('test.csv')\n",
    "test.head()\n",
    "id_ = test['Id']\n"
   ]
  },
  {
   "cell_type": "code",
   "execution_count": 180,
   "metadata": {},
   "outputs": [],
   "source": [
    "test =test[['Id','age','sex','bmi','children','smoker','region','charges']]"
   ]
  },
  {
   "cell_type": "code",
   "execution_count": 181,
   "metadata": {},
   "outputs": [
    {
     "name": "stdout",
     "output_type": "stream",
     "text": [
      "[0 1 1 1 1 1 1 1 1 0 0 0 0 0 0 0 1 1 1 1 1 1 1 1 1 0 0 1 0 1 1 0 1 1 0 1 0\n",
      " 1 0 1 0 0 1 1 1 1 1 1 0 1 1 1 0 1 0 1 1 0 1 0 0 1 1 0 0 0 1 0 1 1 1 1 1 0\n",
      " 0 1 1 0 1 1 0 1 1 0 0 1 0 0 0 1 0 1 1 0 1 1 1 1 1 0 1 1 1 0 0 1 1 0 0 1 1\n",
      " 0 1 1 1 1 1 1 0 1 1 1 1 1 0 1 0 0 1 1 0 1 1 1 1 0 0 1 1 0 1 1 0 0 1 0 1 0\n",
      " 0 0 1 1 1 1 1 1 1 1 1 1 1 1 1 1 1 0 1 1 1 1 1 0 1 1 0 0 1 0 1 0 0 0 1 0 0\n",
      " 1 1 1 1 0 1 1 1 0 1 0 0 1 0 1 1 1 1 1 0 1 0 0 1 1 0 1 1 1 1 1 0 0 0 0 0 0\n",
      " 0 1 0 1 0 0 1 1 0 1 1 1 1 1 1 1 1 1 1 1 1 0 0 1 0 1 1 0 1 1 1 1 1 0 1 1 1\n",
      " 1 1 1 0 1 0 1 0 0]\n"
     ]
    }
   ],
   "source": [
    "# Code starts here\n",
    "\n",
    "# Predict on the test data\n",
    "y_pred_test4 = grid.predict(test)\n",
    "\n",
    "print(y_pred_test4)\n",
    "\n",
    "# Create a sample submission file\n",
    "sample_submission = pd.DataFrame({'Id':id_,'insuranceclaim':y_pred_test4})\n",
    "\n",
    "# Convert the sample submission file into a csv file\n",
    "sample_submission.to_csv('submission_file2.csv',index=False)\n",
    "\n",
    "# Code ends here"
   ]
  },
  {
   "cell_type": "code",
   "execution_count": null,
   "metadata": {},
   "outputs": [],
   "source": []
  }
 ],
 "metadata": {
  "kernelspec": {
   "display_name": "Python 3",
   "language": "python",
   "name": "python3"
  },
  "language_info": {
   "codemirror_mode": {
    "name": "ipython",
    "version": 3
   },
   "file_extension": ".py",
   "mimetype": "text/x-python",
   "name": "python",
   "nbconvert_exporter": "python",
   "pygments_lexer": "ipython3",
   "version": "3.7.6"
  }
 },
 "nbformat": 4,
 "nbformat_minor": 2
}
