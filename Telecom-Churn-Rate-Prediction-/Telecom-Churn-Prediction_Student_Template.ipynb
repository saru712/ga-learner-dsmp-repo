{
 "cells": [
  {
   "cell_type": "markdown",
   "metadata": {},
   "source": [
    "# Telecome customer churn Analysis & Prediction"
   ]
  },
  {
   "cell_type": "markdown",
   "metadata": {},
   "source": [
    "### Introduction: \n",
    "Churn rate is the percentage of subscribers to a service that discontinue their subscription to that service in a given time period.\n",
    "\n",
    "Customers are moving to other competitor companies due to below reasons.\n",
    "- Poor service.\n",
    "- Availability of features and content.\n",
    "- Lower cost substitutes from competitors/ better offer from competitor.\n",
    "- Negative customer service experiences\n",
    "- Some unkown reasons"
   ]
  },
  {
   "cell_type": "markdown",
   "metadata": {},
   "source": [
    "### Problem statement\n",
    "- Reduce customer churn rate\n",
    "- Analysis high risk customer group(customer group whose churn rate is more comapred to other clusters/customers)\n",
    "- Predict whether the given customer will churn or not"
   ]
  },
  {
   "cell_type": "markdown",
   "metadata": {},
   "source": [
    "### Stakeholders: \n",
    "- **Telecom company HR team / Higher management / Telecom company business team**\n",
    "- Customer (To opt for new services)\n",
    "\n",
    "As here we don't have any information about other telecom companies/ competitors, we will not be able to perform EDA for customer as stakeholder"
   ]
  },
  {
   "cell_type": "markdown",
   "metadata": {},
   "source": [
    "### Pain point:\n",
    "- Reduction in company revenue"
   ]
  },
  {
   "cell_type": "markdown",
   "metadata": {},
   "source": [
    "### Business Metric:\n",
    "- Reduce churn rate by 5% of current churn rate\n",
    "- Aquire new customers"
   ]
  },
  {
   "cell_type": "markdown",
   "metadata": {},
   "source": [
    "### Data science metric: accuracy_score"
   ]
  },
  {
   "cell_type": "markdown",
   "metadata": {},
   "source": [
    "### Exploratory Data Analysis(EDA)\n",
    "1. Does age impact churn rate\n",
    "2. Which service facilities are mostly opted out by customers\n",
    "3. Does mode of payment has any impact on churn rate\n",
    "4. Does total services provided vs total charges as any positive impact on churn rate(like more services,less charges/discount)\n",
    "5. Does gender factor make any difference in churn rate\n",
    "6. Having dependent impacts churn rate?\n",
    "7. Contract tenure has any impact on churn rate\n",
    "8. What are the most profitable service types"
   ]
  },
  {
   "cell_type": "markdown",
   "metadata": {},
   "source": [
    "### Algorithms used:\n",
    "1. Logistic regression\n",
    "2. Random forest\n",
    "3.AdaBoost\n",
    "4.XGBoost"
   ]
  },
  {
   "cell_type": "code",
   "execution_count": 4,
   "metadata": {},
   "outputs": [],
   "source": [
    "# import the modules\n",
    "import pandas as pd\n",
    "import numpy as np\n",
    "\n",
    "#importing liabraries for graphical representation\n",
    "import matplotlib.pyplot as plt\n",
    "import seaborn as sns\n",
    "from pandas.plotting import scatter_matrix\n",
    "import matplotlib.patches as mpatches\n",
    "from matplotlib import rcParams\n",
    "from matplotlib.cm import rainbow\n",
    "%matplotlib inline\n",
    "\n",
    "#Packages for feature engineering\n",
    "from sklearn.model_selection import train_test_split, StratifiedKFold,cross_val_score,GridSearchCV\n",
    "from sklearn.linear_model import LogisticRegression, SGDClassifier\n",
    "from sklearn.tree import DecisionTreeClassifier\n",
    "\n",
    "from statsmodels.tools.eval_measures import rmse\n",
    "from scipy import stats\n",
    "from sklearn.metrics import classification_report, accuracy_score, confusion_matrix\n",
    "import statsmodels.api as sm\n",
    "from sklearn.neighbors import KNeighborsClassifier\n",
    "from sklearn.discriminant_analysis import LinearDiscriminantAnalysis\n",
    "from sklearn.naive_bayes import GaussianNB\n",
    "from sklearn.feature_selection import RFE\n",
    "#from xgboost import XGBClassifier\n",
    "from sklearn.ensemble import RandomForestClassifier,AdaBoostClassifier,GradientBoostingClassifier\n",
    "#import catboost as cb\n",
    "import os\n",
    "import random\n",
    "from imblearn.over_sampling import SMOTE\n",
    "from imblearn.metrics import classification_report_imbalanced\n",
    "from sklearn.metrics import confusion_matrix, accuracy_score, precision_score,\\\n",
    "                            recall_score, f1_score, roc_auc_score, classification_report,\\\n",
    "                            roc_curve, auc\n",
    "from collections import Counter\n",
    "from sklearn.model_selection import KFold, StratifiedKFold, cross_val_score, StratifiedKFold\n",
    "from sklearn.svm import SVC\n",
    "from sklearn.neighbors import KNeighborsClassifier\n",
    "import warnings\n",
    "warnings.filterwarnings('ignore')"
   ]
  },
  {
   "cell_type": "markdown",
   "metadata": {},
   "source": [
    "### Load the dataset\n",
    "\n",
    "- Load the train data and using all your knowledge try to explore the different statistical properties of the dataset."
   ]
  },
  {
   "cell_type": "code",
   "execution_count": 7,
   "metadata": {},
   "outputs": [
    {
     "data": {
      "text/html": [
       "<div>\n",
       "<style scoped>\n",
       "    .dataframe tbody tr th:only-of-type {\n",
       "        vertical-align: middle;\n",
       "    }\n",
       "\n",
       "    .dataframe tbody tr th {\n",
       "        vertical-align: top;\n",
       "    }\n",
       "\n",
       "    .dataframe thead th {\n",
       "        text-align: right;\n",
       "    }\n",
       "</style>\n",
       "<table border=\"1\" class=\"dataframe\">\n",
       "  <thead>\n",
       "    <tr style=\"text-align: right;\">\n",
       "      <th></th>\n",
       "      <th>Id</th>\n",
       "      <th>customerID</th>\n",
       "      <th>gender</th>\n",
       "      <th>SeniorCitizen</th>\n",
       "      <th>Partner</th>\n",
       "      <th>Dependents</th>\n",
       "      <th>tenure</th>\n",
       "      <th>PhoneService</th>\n",
       "      <th>MultipleLines</th>\n",
       "      <th>InternetService</th>\n",
       "      <th>...</th>\n",
       "      <th>DeviceProtection</th>\n",
       "      <th>TechSupport</th>\n",
       "      <th>StreamingTV</th>\n",
       "      <th>StreamingMovies</th>\n",
       "      <th>Contract</th>\n",
       "      <th>PaperlessBilling</th>\n",
       "      <th>PaymentMethod</th>\n",
       "      <th>MonthlyCharges</th>\n",
       "      <th>TotalCharges</th>\n",
       "      <th>Churn</th>\n",
       "    </tr>\n",
       "  </thead>\n",
       "  <tbody>\n",
       "    <tr>\n",
       "      <th>0</th>\n",
       "      <td>1370</td>\n",
       "      <td>7596-IIWYC</td>\n",
       "      <td>Female</td>\n",
       "      <td>0</td>\n",
       "      <td>No</td>\n",
       "      <td>No</td>\n",
       "      <td>27</td>\n",
       "      <td>Yes</td>\n",
       "      <td>No</td>\n",
       "      <td>No</td>\n",
       "      <td>...</td>\n",
       "      <td>No internet service</td>\n",
       "      <td>No internet service</td>\n",
       "      <td>No internet service</td>\n",
       "      <td>No internet service</td>\n",
       "      <td>Two year</td>\n",
       "      <td>Yes</td>\n",
       "      <td>Bank transfer (automatic)</td>\n",
       "      <td>20.25</td>\n",
       "      <td>538.2</td>\n",
       "      <td>No</td>\n",
       "    </tr>\n",
       "    <tr>\n",
       "      <th>1</th>\n",
       "      <td>5676</td>\n",
       "      <td>9103-CXVOK</td>\n",
       "      <td>Male</td>\n",
       "      <td>0</td>\n",
       "      <td>Yes</td>\n",
       "      <td>Yes</td>\n",
       "      <td>1</td>\n",
       "      <td>Yes</td>\n",
       "      <td>No</td>\n",
       "      <td>No</td>\n",
       "      <td>...</td>\n",
       "      <td>No internet service</td>\n",
       "      <td>No internet service</td>\n",
       "      <td>No internet service</td>\n",
       "      <td>No internet service</td>\n",
       "      <td>Month-to-month</td>\n",
       "      <td>No</td>\n",
       "      <td>Electronic check</td>\n",
       "      <td>19.75</td>\n",
       "      <td>19.75</td>\n",
       "      <td>No</td>\n",
       "    </tr>\n",
       "    <tr>\n",
       "      <th>2</th>\n",
       "      <td>5800</td>\n",
       "      <td>7129-CAKJW</td>\n",
       "      <td>Female</td>\n",
       "      <td>0</td>\n",
       "      <td>No</td>\n",
       "      <td>No</td>\n",
       "      <td>17</td>\n",
       "      <td>Yes</td>\n",
       "      <td>Yes</td>\n",
       "      <td>Fiber optic</td>\n",
       "      <td>...</td>\n",
       "      <td>Yes</td>\n",
       "      <td>No</td>\n",
       "      <td>No</td>\n",
       "      <td>No</td>\n",
       "      <td>Month-to-month</td>\n",
       "      <td>No</td>\n",
       "      <td>Bank transfer (automatic)</td>\n",
       "      <td>80.05</td>\n",
       "      <td>1345.65</td>\n",
       "      <td>No</td>\n",
       "    </tr>\n",
       "    <tr>\n",
       "      <th>3</th>\n",
       "      <td>1645</td>\n",
       "      <td>9490-DFPMD</td>\n",
       "      <td>Female</td>\n",
       "      <td>1</td>\n",
       "      <td>No</td>\n",
       "      <td>No</td>\n",
       "      <td>42</td>\n",
       "      <td>Yes</td>\n",
       "      <td>Yes</td>\n",
       "      <td>Fiber optic</td>\n",
       "      <td>...</td>\n",
       "      <td>No</td>\n",
       "      <td>No</td>\n",
       "      <td>Yes</td>\n",
       "      <td>No</td>\n",
       "      <td>Month-to-month</td>\n",
       "      <td>Yes</td>\n",
       "      <td>Electronic check</td>\n",
       "      <td>84.65</td>\n",
       "      <td>3541.35</td>\n",
       "      <td>Yes</td>\n",
       "    </tr>\n",
       "    <tr>\n",
       "      <th>4</th>\n",
       "      <td>366</td>\n",
       "      <td>9069-LGEUL</td>\n",
       "      <td>Male</td>\n",
       "      <td>0</td>\n",
       "      <td>Yes</td>\n",
       "      <td>No</td>\n",
       "      <td>23</td>\n",
       "      <td>Yes</td>\n",
       "      <td>No</td>\n",
       "      <td>DSL</td>\n",
       "      <td>...</td>\n",
       "      <td>No</td>\n",
       "      <td>No</td>\n",
       "      <td>No</td>\n",
       "      <td>Yes</td>\n",
       "      <td>Month-to-month</td>\n",
       "      <td>Yes</td>\n",
       "      <td>Bank transfer (automatic)</td>\n",
       "      <td>59.95</td>\n",
       "      <td>1406</td>\n",
       "      <td>No</td>\n",
       "    </tr>\n",
       "  </tbody>\n",
       "</table>\n",
       "<p>5 rows × 22 columns</p>\n",
       "</div>"
      ],
      "text/plain": [
       "     Id  customerID  gender  SeniorCitizen Partner Dependents  tenure  \\\n",
       "0  1370  7596-IIWYC  Female              0      No         No      27   \n",
       "1  5676  9103-CXVOK    Male              0     Yes        Yes       1   \n",
       "2  5800  7129-CAKJW  Female              0      No         No      17   \n",
       "3  1645  9490-DFPMD  Female              1      No         No      42   \n",
       "4   366  9069-LGEUL    Male              0     Yes         No      23   \n",
       "\n",
       "  PhoneService MultipleLines InternetService  ...     DeviceProtection  \\\n",
       "0          Yes            No              No  ...  No internet service   \n",
       "1          Yes            No              No  ...  No internet service   \n",
       "2          Yes           Yes     Fiber optic  ...                  Yes   \n",
       "3          Yes           Yes     Fiber optic  ...                   No   \n",
       "4          Yes            No             DSL  ...                   No   \n",
       "\n",
       "           TechSupport          StreamingTV      StreamingMovies  \\\n",
       "0  No internet service  No internet service  No internet service   \n",
       "1  No internet service  No internet service  No internet service   \n",
       "2                   No                   No                   No   \n",
       "3                   No                  Yes                   No   \n",
       "4                   No                   No                  Yes   \n",
       "\n",
       "         Contract PaperlessBilling              PaymentMethod MonthlyCharges  \\\n",
       "0        Two year              Yes  Bank transfer (automatic)          20.25   \n",
       "1  Month-to-month               No           Electronic check          19.75   \n",
       "2  Month-to-month               No  Bank transfer (automatic)          80.05   \n",
       "3  Month-to-month              Yes           Electronic check          84.65   \n",
       "4  Month-to-month              Yes  Bank transfer (automatic)          59.95   \n",
       "\n",
       "  TotalCharges  Churn  \n",
       "0        538.2     No  \n",
       "1        19.75     No  \n",
       "2      1345.65     No  \n",
       "3      3541.35    Yes  \n",
       "4         1406     No  \n",
       "\n",
       "[5 rows x 22 columns]"
      ]
     },
     "execution_count": 7,
     "metadata": {},
     "output_type": "execute_result"
    }
   ],
   "source": [
    "# Code starts here\n",
    "df = pd.read_csv('train.csv')\n",
    "df.head(5)\n",
    "# Code ends here"
   ]
  },
  {
   "cell_type": "code",
   "execution_count": 8,
   "metadata": {},
   "outputs": [
    {
     "data": {
      "text/plain": [
       "Id                    int64\n",
       "customerID           object\n",
       "gender               object\n",
       "SeniorCitizen         int64\n",
       "Partner              object\n",
       "Dependents           object\n",
       "tenure                int64\n",
       "PhoneService         object\n",
       "MultipleLines        object\n",
       "InternetService      object\n",
       "OnlineSecurity       object\n",
       "OnlineBackup         object\n",
       "DeviceProtection     object\n",
       "TechSupport          object\n",
       "StreamingTV          object\n",
       "StreamingMovies      object\n",
       "Contract             object\n",
       "PaperlessBilling     object\n",
       "PaymentMethod        object\n",
       "MonthlyCharges      float64\n",
       "TotalCharges         object\n",
       "Churn                object\n",
       "dtype: object"
      ]
     },
     "execution_count": 8,
     "metadata": {},
     "output_type": "execute_result"
    }
   ],
   "source": [
    "df.dtypes"
   ]
  },
  {
   "cell_type": "code",
   "execution_count": 9,
   "metadata": {},
   "outputs": [
    {
     "data": {
      "text/plain": [
       "No     4120\n",
       "Yes    1514\n",
       "Name: Churn, dtype: int64"
      ]
     },
     "execution_count": 9,
     "metadata": {},
     "output_type": "execute_result"
    }
   ],
   "source": [
    "# get the churn count \n",
    "df[\"Churn\"].value_counts()"
   ]
  },
  {
   "cell_type": "code",
   "execution_count": 10,
   "metadata": {},
   "outputs": [
    {
     "data": {
      "text/plain": [
       "<matplotlib.axes._subplots.AxesSubplot at 0x1d086d80208>"
      ]
     },
     "execution_count": 10,
     "metadata": {},
     "output_type": "execute_result"
    },
    {
     "data": {
      "image/png": "[encoded data removed]",
      "text/plain": [
       "<Figure size 432x288 with 1 Axes>"
      ]
     },
     "metadata": {
      "needs_background": "light"
     },
     "output_type": "display_data"
    }
   ],
   "source": [
    "# visualize the count of coustmer churn\n",
    "sns.countplot(df['Churn'])"
   ]
  },
  {
   "cell_type": "markdown",
   "metadata": {},
   "source": [
    " **Insights**:\n",
    "\n",
    "Target variable churn rate is baised. so in ordere to balance data we need to use undersampling  and oversampling technique\n",
    "\n",
    "**Recommendation**\n",
    "\n",
    "Even though the Churn Rate is not high, but we need to take necessary action in order to reduce it."
   ]
  },
  {
   "cell_type": "markdown",
   "metadata": {},
   "source": [
    "### Visualize the data\n",
    "\n",
    "- Replace the missing values and modify some column values(as required by you).\n",
    "- Check out the best plots for plotting between categorical target and continuous features and try making some inferences from these plots.\n",
    "- Clean the data, apply some data preprocessing and engineering techniques."
   ]
  },
  {
   "cell_type": "code",
   "execution_count": 11,
   "metadata": {},
   "outputs": [
    {
     "data": {
      "text/plain": [
       "<matplotlib.axes._subplots.AxesSubplot at 0x1d087686208>"
      ]
     },
     "execution_count": 11,
     "metadata": {},
     "output_type": "execute_result"
    },
    {
     "data": {
      "image/png": "[encoded data removed]",
      "text/plain": [
       "<Figure size 432x288 with 1 Axes>"
      ]
     },
     "metadata": {
      "needs_background": "light"
     },
     "output_type": "display_data"
    }
   ],
   "source": [
    "# visualize the churn count  for both male and females\n",
    "sns.countplot(x='gender',hue='Churn',data=df)"
   ]
  },
  {
   "cell_type": "markdown",
   "metadata": {},
   "source": [
    "**Insights**: Gender doesn't really have any impact on churn rate.\n",
    "\n",
    "**Recommendation**:We need to focus on both the Genders. No specific Gender should be prioritised."
   ]
  },
  {
   "cell_type": "code",
   "execution_count": 12,
   "metadata": {},
   "outputs": [
    {
     "data": {
      "text/plain": [
       "<matplotlib.axes._subplots.AxesSubplot at 0x1d087716b08>"
      ]
     },
     "execution_count": 12,
     "metadata": {},
     "output_type": "execute_result"
    },
    {
     "data": {
      "image/png": "[encoded data removed]",
      "text/plain": [
       "<Figure size 432x288 with 1 Axes>"
      ]
     },
     "metadata": {
      "needs_background": "light"
     },
     "output_type": "display_data"
    }
   ],
   "source": [
    "# visualize the churn count for SeniorCitizen\n",
    "sns.countplot(x='SeniorCitizen',hue='Churn',data=df)"
   ]
  },
  {
   "cell_type": "markdown",
   "metadata": {},
   "source": [
    "**Insight**: Churn Rate for Senior Citizen is less than Non Senior Citizen.\n",
    "\n",
    "**Recommendation**: Less focus should be given to Senior Citizen."
   ]
  },
  {
   "cell_type": "code",
   "execution_count": 13,
   "metadata": {},
   "outputs": [
    {
     "data": {
      "text/plain": [
       "<matplotlib.axes._subplots.AxesSubplot at 0x1d08778e708>"
      ]
     },
     "execution_count": 13,
     "metadata": {},
     "output_type": "execute_result"
    },
    {
     "data": {
      "image/png": "[encoded data removed]",
      "text/plain": [
       "<Figure size 432x288 with 1 Axes>"
      ]
     },
     "metadata": {
      "needs_background": "light"
     },
     "output_type": "display_data"
    }
   ],
   "source": [
    "# visualize the churn count of internet services\n",
    "\n",
    "sns.countplot(x='InternetService',hue='Churn',data=df)"
   ]
  },
  {
   "cell_type": "markdown",
   "metadata": {},
   "source": [
    "**Insight** : Customer having Fiber optic Internet Service tends to have higher Churn rate compared to DSL Internet Service.\n",
    "\n",
    "**Recommendation**: Company needs to check with the service provided by Fiber Optic Internet Service and take necessary action in case of any service issues."
   ]
  },
  {
   "cell_type": "code",
   "execution_count": 14,
   "metadata": {},
   "outputs": [
    {
     "data": {
      "text/plain": [
       "array([<matplotlib.axes._subplots.AxesSubplot object at 0x000001D087826B48>,\n",
       "       <matplotlib.axes._subplots.AxesSubplot object at 0x000001D08784A948>],\n",
       "      dtype=object)"
      ]
     },
     "execution_count": 14,
     "metadata": {},
     "output_type": "execute_result"
    },
    {
     "data": {
      "image/png": "[encoded data removed]",
      "text/plain": [
       "<Figure size 2160x360 with 2 Axes>"
      ]
     },
     "metadata": {
      "needs_background": "light"
     },
     "output_type": "display_data"
    }
   ],
   "source": [
    "numeric_featured = ['tenure','MonthlyCharges']\n",
    "fig , ax=plt.subplots (1,2 , figsize=(30,5))\n",
    "df[df.Churn == 'No'][numeric_featured].hist(bins=30 , color='red',alpha=0.5 ,ax=ax)\n",
    "df[df.Churn == 'Yes'][numeric_featured].hist(bins=30 , color='blue',alpha=0.5 ,ax=ax)"
   ]
  },
  {
   "cell_type": "markdown",
   "metadata": {},
   "source": [
    "**Insight**\n",
    "\n",
    "**Tennure**: If the Tenure is low, then there are high chances of Customer leaving and if the Tenure is high, then there are high chances of Customer staying.\n",
    "\n",
    "**Monthly Charges** : When the Monthly charges are more than 70, then the Customer Churn Rate is high.\n",
    "\n",
    "**Recommandation**\n",
    "\n",
    "**Tennure** :Try to provide Customer Packages with long Tenure.\n",
    "\n",
    "**Monthly Charges** : If we keep Monthly charges less than 70, then there are high chances of Customer staying.\n",
    "Keep Monthly charges less than 70 in order to acquire new Customers.\n"
   ]
  },
  {
   "cell_type": "code",
   "execution_count": 15,
   "metadata": {},
   "outputs": [
    {
     "data": {
      "text/plain": [
       "Electronic check             1906\n",
       "Mailed check                 1295\n",
       "Bank transfer (automatic)    1244\n",
       "Credit card (automatic)      1189\n",
       "Name: PaymentMethod, dtype: int64"
      ]
     },
     "execution_count": 15,
     "metadata": {},
     "output_type": "execute_result"
    }
   ],
   "source": [
    "df['PaymentMethod'].value_counts()"
   ]
  },
  {
   "cell_type": "code",
   "execution_count": 16,
   "metadata": {},
   "outputs": [
    {
     "data": {
      "image/png": "[encoded data removed]",
      "text/plain": [
       "<Figure size 432x288 with 1 Axes>"
      ]
     },
     "metadata": {
      "needs_background": "light"
     },
     "output_type": "display_data"
    }
   ],
   "source": [
    "sns.countplot(df['PaymentMethod'],hue=df['Churn'])\n",
    "plt.xlabel('Payments Methods')\n",
    "plt.ylabel('Count')\n",
    "plt.title('Payment Method Churn Data')\n",
    "plt.xticks(rotation=45 )\n",
    "plt.show()"
   ]
  },
  {
   "cell_type": "markdown",
   "metadata": {},
   "source": [
    "**Insight**: \n",
    "\n",
    "The most used Payment Method is Electronic check and it has High Churn Rate. \n",
    "\n",
    "**Recommendation** : \n",
    "\n",
    "Try to make sure the Other Payment Methods are also used more often as it has less Churn Rate compared to Electronic Check."
   ]
  },
  {
   "cell_type": "code",
   "execution_count": 17,
   "metadata": {},
   "outputs": [
    {
     "data": {
      "image/png": "[encoded data removed]",
      "text/plain": [
       "<Figure size 432x288 with 1 Axes>"
      ]
     },
     "metadata": {
      "needs_background": "light"
     },
     "output_type": "display_data"
    }
   ],
   "source": [
    "sns.countplot(df['Contract'],hue=df['Churn'])\n",
    "plt.xlabel('Contract')\n",
    "plt.ylabel('Count')\n",
    "plt.title('Contract Churn Data')\n",
    "plt.xticks(rotation=90)\n",
    "plt.show()\n",
    "#0- month to month\n",
    "#1-one year\n",
    "#2- two year"
   ]
  },
  {
   "cell_type": "markdown",
   "metadata": {},
   "source": [
    "**Insight** : Month-to-month contract has high Churn Rate.\n",
    "\n",
    "**Recommendation**: Provide Customer with packages having one year or two year COntract."
   ]
  },
  {
   "cell_type": "markdown",
   "metadata": {},
   "source": [
    "### Model building\n",
    "\n",
    "- Try to predict the churning of customers using AdaBoost\n",
    "- Try and implement XGBoost for our customer churn problem and see how it performs in comparision to AdaBoost. Use different techniques you have learned to imporove the performance of the model.\n",
    "- Try improving upon the `accuracy_score` ([Accuracy Score](https://scikit-learn.org/stable/modules/generated/sklearn.metrics.accuracy_score.html))"
   ]
  },
  {
   "cell_type": "code",
   "execution_count": 19,
   "metadata": {},
   "outputs": [],
   "source": [
    "# drop column which is not requried\n",
    "df.drop('Id',axis=1,inplace=True)"
   ]
  },
  {
   "cell_type": "code",
   "execution_count": 20,
   "metadata": {},
   "outputs": [],
   "source": [
    "df.drop('customerID',axis=1,inplace=True)"
   ]
  },
  {
   "cell_type": "code",
   "execution_count": 21,
   "metadata": {},
   "outputs": [
    {
     "data": {
      "text/html": [
       "<div>\n",
       "<style scoped>\n",
       "    .dataframe tbody tr th:only-of-type {\n",
       "        vertical-align: middle;\n",
       "    }\n",
       "\n",
       "    .dataframe tbody tr th {\n",
       "        vertical-align: top;\n",
       "    }\n",
       "\n",
       "    .dataframe thead th {\n",
       "        text-align: right;\n",
       "    }\n",
       "</style>\n",
       "<table border=\"1\" class=\"dataframe\">\n",
       "  <thead>\n",
       "    <tr style=\"text-align: right;\">\n",
       "      <th></th>\n",
       "      <th>gender</th>\n",
       "      <th>SeniorCitizen</th>\n",
       "      <th>Partner</th>\n",
       "      <th>Dependents</th>\n",
       "      <th>tenure</th>\n",
       "      <th>PhoneService</th>\n",
       "      <th>MultipleLines</th>\n",
       "      <th>InternetService</th>\n",
       "      <th>OnlineSecurity</th>\n",
       "      <th>OnlineBackup</th>\n",
       "      <th>DeviceProtection</th>\n",
       "      <th>TechSupport</th>\n",
       "      <th>StreamingTV</th>\n",
       "      <th>StreamingMovies</th>\n",
       "      <th>Contract</th>\n",
       "      <th>PaperlessBilling</th>\n",
       "      <th>PaymentMethod</th>\n",
       "      <th>MonthlyCharges</th>\n",
       "      <th>TotalCharges</th>\n",
       "      <th>Churn</th>\n",
       "    </tr>\n",
       "  </thead>\n",
       "  <tbody>\n",
       "    <tr>\n",
       "      <th>0</th>\n",
       "      <td>Female</td>\n",
       "      <td>0</td>\n",
       "      <td>No</td>\n",
       "      <td>No</td>\n",
       "      <td>27</td>\n",
       "      <td>Yes</td>\n",
       "      <td>No</td>\n",
       "      <td>No</td>\n",
       "      <td>No internet service</td>\n",
       "      <td>No internet service</td>\n",
       "      <td>No internet service</td>\n",
       "      <td>No internet service</td>\n",
       "      <td>No internet service</td>\n",
       "      <td>No internet service</td>\n",
       "      <td>Two year</td>\n",
       "      <td>Yes</td>\n",
       "      <td>Bank transfer (automatic)</td>\n",
       "      <td>20.25</td>\n",
       "      <td>538.2</td>\n",
       "      <td>No</td>\n",
       "    </tr>\n",
       "    <tr>\n",
       "      <th>1</th>\n",
       "      <td>Male</td>\n",
       "      <td>0</td>\n",
       "      <td>Yes</td>\n",
       "      <td>Yes</td>\n",
       "      <td>1</td>\n",
       "      <td>Yes</td>\n",
       "      <td>No</td>\n",
       "      <td>No</td>\n",
       "      <td>No internet service</td>\n",
       "      <td>No internet service</td>\n",
       "      <td>No internet service</td>\n",
       "      <td>No internet service</td>\n",
       "      <td>No internet service</td>\n",
       "      <td>No internet service</td>\n",
       "      <td>Month-to-month</td>\n",
       "      <td>No</td>\n",
       "      <td>Electronic check</td>\n",
       "      <td>19.75</td>\n",
       "      <td>19.75</td>\n",
       "      <td>No</td>\n",
       "    </tr>\n",
       "    <tr>\n",
       "      <th>2</th>\n",
       "      <td>Female</td>\n",
       "      <td>0</td>\n",
       "      <td>No</td>\n",
       "      <td>No</td>\n",
       "      <td>17</td>\n",
       "      <td>Yes</td>\n",
       "      <td>Yes</td>\n",
       "      <td>Fiber optic</td>\n",
       "      <td>No</td>\n",
       "      <td>No</td>\n",
       "      <td>Yes</td>\n",
       "      <td>No</td>\n",
       "      <td>No</td>\n",
       "      <td>No</td>\n",
       "      <td>Month-to-month</td>\n",
       "      <td>No</td>\n",
       "      <td>Bank transfer (automatic)</td>\n",
       "      <td>80.05</td>\n",
       "      <td>1345.65</td>\n",
       "      <td>No</td>\n",
       "    </tr>\n",
       "    <tr>\n",
       "      <th>3</th>\n",
       "      <td>Female</td>\n",
       "      <td>1</td>\n",
       "      <td>No</td>\n",
       "      <td>No</td>\n",
       "      <td>42</td>\n",
       "      <td>Yes</td>\n",
       "      <td>Yes</td>\n",
       "      <td>Fiber optic</td>\n",
       "      <td>No</td>\n",
       "      <td>No</td>\n",
       "      <td>No</td>\n",
       "      <td>No</td>\n",
       "      <td>Yes</td>\n",
       "      <td>No</td>\n",
       "      <td>Month-to-month</td>\n",
       "      <td>Yes</td>\n",
       "      <td>Electronic check</td>\n",
       "      <td>84.65</td>\n",
       "      <td>3541.35</td>\n",
       "      <td>Yes</td>\n",
       "    </tr>\n",
       "    <tr>\n",
       "      <th>4</th>\n",
       "      <td>Male</td>\n",
       "      <td>0</td>\n",
       "      <td>Yes</td>\n",
       "      <td>No</td>\n",
       "      <td>23</td>\n",
       "      <td>Yes</td>\n",
       "      <td>No</td>\n",
       "      <td>DSL</td>\n",
       "      <td>Yes</td>\n",
       "      <td>No</td>\n",
       "      <td>No</td>\n",
       "      <td>No</td>\n",
       "      <td>No</td>\n",
       "      <td>Yes</td>\n",
       "      <td>Month-to-month</td>\n",
       "      <td>Yes</td>\n",
       "      <td>Bank transfer (automatic)</td>\n",
       "      <td>59.95</td>\n",
       "      <td>1406</td>\n",
       "      <td>No</td>\n",
       "    </tr>\n",
       "    <tr>\n",
       "      <th>...</th>\n",
       "      <td>...</td>\n",
       "      <td>...</td>\n",
       "      <td>...</td>\n",
       "      <td>...</td>\n",
       "      <td>...</td>\n",
       "      <td>...</td>\n",
       "      <td>...</td>\n",
       "      <td>...</td>\n",
       "      <td>...</td>\n",
       "      <td>...</td>\n",
       "      <td>...</td>\n",
       "      <td>...</td>\n",
       "      <td>...</td>\n",
       "      <td>...</td>\n",
       "      <td>...</td>\n",
       "      <td>...</td>\n",
       "      <td>...</td>\n",
       "      <td>...</td>\n",
       "      <td>...</td>\n",
       "      <td>...</td>\n",
       "    </tr>\n",
       "    <tr>\n",
       "      <th>5629</th>\n",
       "      <td>Male</td>\n",
       "      <td>0</td>\n",
       "      <td>Yes</td>\n",
       "      <td>Yes</td>\n",
       "      <td>68</td>\n",
       "      <td>Yes</td>\n",
       "      <td>Yes</td>\n",
       "      <td>DSL</td>\n",
       "      <td>No</td>\n",
       "      <td>Yes</td>\n",
       "      <td>Yes</td>\n",
       "      <td>Yes</td>\n",
       "      <td>No</td>\n",
       "      <td>Yes</td>\n",
       "      <td>One year</td>\n",
       "      <td>Yes</td>\n",
       "      <td>Bank transfer (automatic)</td>\n",
       "      <td>75.80</td>\n",
       "      <td>5293.95</td>\n",
       "      <td>Yes</td>\n",
       "    </tr>\n",
       "    <tr>\n",
       "      <th>5630</th>\n",
       "      <td>Female</td>\n",
       "      <td>0</td>\n",
       "      <td>Yes</td>\n",
       "      <td>Yes</td>\n",
       "      <td>65</td>\n",
       "      <td>Yes</td>\n",
       "      <td>Yes</td>\n",
       "      <td>DSL</td>\n",
       "      <td>Yes</td>\n",
       "      <td>Yes</td>\n",
       "      <td>Yes</td>\n",
       "      <td>Yes</td>\n",
       "      <td>Yes</td>\n",
       "      <td>Yes</td>\n",
       "      <td>Two year</td>\n",
       "      <td>Yes</td>\n",
       "      <td>Mailed check</td>\n",
       "      <td>90.45</td>\n",
       "      <td>5957.9</td>\n",
       "      <td>No</td>\n",
       "    </tr>\n",
       "    <tr>\n",
       "      <th>5631</th>\n",
       "      <td>Male</td>\n",
       "      <td>0</td>\n",
       "      <td>No</td>\n",
       "      <td>No</td>\n",
       "      <td>24</td>\n",
       "      <td>Yes</td>\n",
       "      <td>Yes</td>\n",
       "      <td>Fiber optic</td>\n",
       "      <td>No</td>\n",
       "      <td>No</td>\n",
       "      <td>Yes</td>\n",
       "      <td>No</td>\n",
       "      <td>Yes</td>\n",
       "      <td>No</td>\n",
       "      <td>Month-to-month</td>\n",
       "      <td>Yes</td>\n",
       "      <td>Mailed check</td>\n",
       "      <td>89.85</td>\n",
       "      <td>2165.05</td>\n",
       "      <td>Yes</td>\n",
       "    </tr>\n",
       "    <tr>\n",
       "      <th>5632</th>\n",
       "      <td>Female</td>\n",
       "      <td>0</td>\n",
       "      <td>Yes</td>\n",
       "      <td>No</td>\n",
       "      <td>1</td>\n",
       "      <td>Yes</td>\n",
       "      <td>No</td>\n",
       "      <td>DSL</td>\n",
       "      <td>No</td>\n",
       "      <td>No</td>\n",
       "      <td>No</td>\n",
       "      <td>No</td>\n",
       "      <td>Yes</td>\n",
       "      <td>No</td>\n",
       "      <td>Month-to-month</td>\n",
       "      <td>No</td>\n",
       "      <td>Mailed check</td>\n",
       "      <td>55.20</td>\n",
       "      <td>55.2</td>\n",
       "      <td>Yes</td>\n",
       "    </tr>\n",
       "    <tr>\n",
       "      <th>5633</th>\n",
       "      <td>Female</td>\n",
       "      <td>1</td>\n",
       "      <td>No</td>\n",
       "      <td>No</td>\n",
       "      <td>10</td>\n",
       "      <td>No</td>\n",
       "      <td>No phone service</td>\n",
       "      <td>DSL</td>\n",
       "      <td>No</td>\n",
       "      <td>No</td>\n",
       "      <td>No</td>\n",
       "      <td>No</td>\n",
       "      <td>No</td>\n",
       "      <td>Yes</td>\n",
       "      <td>Month-to-month</td>\n",
       "      <td>Yes</td>\n",
       "      <td>Electronic check</td>\n",
       "      <td>34.70</td>\n",
       "      <td>329.8</td>\n",
       "      <td>Yes</td>\n",
       "    </tr>\n",
       "  </tbody>\n",
       "</table>\n",
       "<p>5634 rows × 20 columns</p>\n",
       "</div>"
      ],
      "text/plain": [
       "      gender  SeniorCitizen Partner Dependents  tenure PhoneService  \\\n",
       "0     Female              0      No         No      27          Yes   \n",
       "1       Male              0     Yes        Yes       1          Yes   \n",
       "2     Female              0      No         No      17          Yes   \n",
       "3     Female              1      No         No      42          Yes   \n",
       "4       Male              0     Yes         No      23          Yes   \n",
       "...      ...            ...     ...        ...     ...          ...   \n",
       "5629    Male              0     Yes        Yes      68          Yes   \n",
       "5630  Female              0     Yes        Yes      65          Yes   \n",
       "5631    Male              0      No         No      24          Yes   \n",
       "5632  Female              0     Yes         No       1          Yes   \n",
       "5633  Female              1      No         No      10           No   \n",
       "\n",
       "         MultipleLines InternetService       OnlineSecurity  \\\n",
       "0                   No              No  No internet service   \n",
       "1                   No              No  No internet service   \n",
       "2                  Yes     Fiber optic                   No   \n",
       "3                  Yes     Fiber optic                   No   \n",
       "4                   No             DSL                  Yes   \n",
       "...                ...             ...                  ...   \n",
       "5629               Yes             DSL                   No   \n",
       "5630               Yes             DSL                  Yes   \n",
       "5631               Yes     Fiber optic                   No   \n",
       "5632                No             DSL                   No   \n",
       "5633  No phone service             DSL                   No   \n",
       "\n",
       "             OnlineBackup     DeviceProtection          TechSupport  \\\n",
       "0     No internet service  No internet service  No internet service   \n",
       "1     No internet service  No internet service  No internet service   \n",
       "2                      No                  Yes                   No   \n",
       "3                      No                   No                   No   \n",
       "4                      No                   No                   No   \n",
       "...                   ...                  ...                  ...   \n",
       "5629                  Yes                  Yes                  Yes   \n",
       "5630                  Yes                  Yes                  Yes   \n",
       "5631                   No                  Yes                   No   \n",
       "5632                   No                   No                   No   \n",
       "5633                   No                   No                   No   \n",
       "\n",
       "              StreamingTV      StreamingMovies        Contract  \\\n",
       "0     No internet service  No internet service        Two year   \n",
       "1     No internet service  No internet service  Month-to-month   \n",
       "2                      No                   No  Month-to-month   \n",
       "3                     Yes                   No  Month-to-month   \n",
       "4                      No                  Yes  Month-to-month   \n",
       "...                   ...                  ...             ...   \n",
       "5629                   No                  Yes        One year   \n",
       "5630                  Yes                  Yes        Two year   \n",
       "5631                  Yes                   No  Month-to-month   \n",
       "5632                  Yes                   No  Month-to-month   \n",
       "5633                   No                  Yes  Month-to-month   \n",
       "\n",
       "     PaperlessBilling              PaymentMethod  MonthlyCharges TotalCharges  \\\n",
       "0                 Yes  Bank transfer (automatic)           20.25        538.2   \n",
       "1                  No           Electronic check           19.75        19.75   \n",
       "2                  No  Bank transfer (automatic)           80.05      1345.65   \n",
       "3                 Yes           Electronic check           84.65      3541.35   \n",
       "4                 Yes  Bank transfer (automatic)           59.95         1406   \n",
       "...               ...                        ...             ...          ...   \n",
       "5629              Yes  Bank transfer (automatic)           75.80      5293.95   \n",
       "5630              Yes               Mailed check           90.45       5957.9   \n",
       "5631              Yes               Mailed check           89.85      2165.05   \n",
       "5632               No               Mailed check           55.20         55.2   \n",
       "5633              Yes           Electronic check           34.70        329.8   \n",
       "\n",
       "     Churn  \n",
       "0       No  \n",
       "1       No  \n",
       "2       No  \n",
       "3      Yes  \n",
       "4       No  \n",
       "...    ...  \n",
       "5629   Yes  \n",
       "5630    No  \n",
       "5631   Yes  \n",
       "5632   Yes  \n",
       "5633   Yes  \n",
       "\n",
       "[5634 rows x 20 columns]"
      ]
     },
     "execution_count": 21,
     "metadata": {},
     "output_type": "execute_result"
    }
   ],
   "source": [
    "df"
   ]
  },
  {
   "cell_type": "markdown",
   "metadata": {},
   "source": [
    "## FEATURE ENGINEERING"
   ]
  },
  {
   "cell_type": "code",
   "execution_count": 22,
   "metadata": {},
   "outputs": [],
   "source": [
    "# Code Starts here\n",
    "# covert all catogorical data into numeric data\n",
    "from sklearn.preprocessing import LabelEncoder\n",
    "\n",
    "for column in df.columns:\n",
    "  if df[column].dtype == np.number:\n",
    "    continue\n",
    "  df[column] = LabelEncoder().fit_transform(df[column])\n",
    "\n",
    "\n",
    "\n",
    "# Code ends here"
   ]
  },
  {
   "cell_type": "code",
   "execution_count": 23,
   "metadata": {},
   "outputs": [
    {
     "data": {
      "text/plain": [
       "<matplotlib.axes._subplots.AxesSubplot at 0x1d0fe65c9c8>"
      ]
     },
     "execution_count": 23,
     "metadata": {},
     "output_type": "execute_result"
    },
    {
     "data": {
      "image/png": "[encoded data removed]",
      "text/plain": [
       "<Figure size 1440x576 with 2 Axes>"
      ]
     },
     "metadata": {
      "needs_background": "light"
     },
     "output_type": "display_data"
    }
   ],
   "source": [
    "plt.figure(figsize=(20,8))\n",
    "sns.heatmap(df.corr(),cmap=\"coolwarm\",annot=True)"
   ]
  },
  {
   "cell_type": "code",
   "execution_count": 69,
   "metadata": {},
   "outputs": [],
   "source": [
    "import time as time\n",
    "from sklearn.model_selection import train_test_split\n",
    "from sklearn.preprocessing import StandardScaler\n",
    "from sklearn.metrics import accuracy_score, precision_score, recall_score, confusion_matrix, f1_score\n",
    "from sklearn.ensemble import RandomForestClassifier"
   ]
  },
  {
   "cell_type": "code",
   "execution_count": 70,
   "metadata": {},
   "outputs": [],
   "source": [
    "from imblearn.over_sampling import SMOTE, RandomOverSampler, SMOTENC, SVMSMOTE\n",
    "from imblearn.under_sampling import RandomUnderSampler\n",
    "from imblearn.combine import SMOTETomek\n",
    "\n",
    "from xgboost import XGBClassifier\n",
    "from sklearn.ensemble import AdaBoostClassifier"
   ]
  },
  {
   "cell_type": "code",
   "execution_count": 71,
   "metadata": {},
   "outputs": [
    {
     "name": "stdout",
     "output_type": "stream",
     "text": [
      "Time Taken: 1.029287576675415\n",
      "Accuracy: 0.7888198757763976\n",
      "Precision: 0.6186440677966102\n",
      "Recall: 0.4965986394557823\n",
      "Confusion Matrix: [[743  90]\n",
      " [148 146]]\n"
     ]
    }
   ],
   "source": [
    "t0 = time.time()\n",
    "X = df.drop('Churn',1)\n",
    "y = df.Churn\n",
    "\n",
    "X_train,X_test,y_train,y_test = train_test_split(X,y,random_state = 0, test_size = 0.2)\n",
    "\n",
    "scaler = StandardScaler()\n",
    "X_train = scaler.fit_transform(X_train)\n",
    "X_test = scaler.transform(X_test)\n",
    "\n",
    "model = RandomForestClassifier(random_state = 0)\n",
    "\n",
    "model.fit(X_train, y_train)\n",
    "\n",
    "pred = model.predict(X_test)\n",
    "\n",
    "t1 = time.time()\n",
    "\n",
    "print('Time Taken:', t1-t0)\n",
    "print('Accuracy:', accuracy_score(y_test, pred))\n",
    "print('Precision:', precision_score(y_test, pred))\n",
    "print('Recall:', recall_score(y_test, pred))\n",
    "print('Confusion Matrix:', confusion_matrix(y_test, pred))"
   ]
  },
  {
   "cell_type": "code",
   "execution_count": 73,
   "metadata": {},
   "outputs": [
    {
     "name": "stdout",
     "output_type": "stream",
     "text": [
      "Time Taken: 1.7953886985778809\n",
      "Accuracy: 0.8919902912621359\n",
      "Precision: 0.8429203539823009\n",
      "Recall: 0.9548872180451128\n",
      "Confusion Matrix: [[354  71]\n",
      " [ 18 381]]\n"
     ]
    }
   ],
   "source": [
    "t0 = time.time()\n",
    "X = df.drop('Churn',1)\n",
    "y = df.Churn\n",
    "\n",
    "sm = RandomOverSampler(random_state=0)\n",
    "X_res, y_res = sm.fit_resample(X, y)\n",
    "\n",
    "X_train,X_test,y_train,y_test = train_test_split(X_res,y_res,random_state = 0, test_size = 0.1)\n",
    "\n",
    "scaler = StandardScaler()\n",
    "X_train = scaler.fit_transform(X_train)\n",
    "X_test = scaler.transform(X_test)\n",
    "\n",
    "model = RandomForestClassifier(random_state = 0, criterion = 'entropy')\n",
    "\n",
    "model.fit(X_train, y_train)\n",
    "\n",
    "pred = model.predict(X_test)\n",
    "\n",
    "t1 = time.time()\n",
    "\n",
    "print('Time Taken:', t1-t0)\n",
    "print('Accuracy:', accuracy_score(y_test, pred))\n",
    "print('Precision:', precision_score(y_test, pred))\n",
    "print('Recall:', recall_score(y_test, pred))\n",
    "print('Confusion Matrix:', confusion_matrix(y_test, pred))"
   ]
  },
  {
   "cell_type": "code",
   "execution_count": 74,
   "metadata": {},
   "outputs": [],
   "source": [
    "from sklearn.model_selection import cross_val_score\n",
    "from tqdm import tqdm"
   ]
  },
  {
   "cell_type": "code",
   "execution_count": 75,
   "metadata": {},
   "outputs": [
    {
     "name": "stderr",
     "output_type": "stream",
     "text": [
      "100%|██████████| 100/100 [00:06<00:00, 15.02it/s]\n"
     ]
    },
    {
     "data": {
      "text/plain": [
       "<matplotlib.axes._subplots.AxesSubplot at 0x1d08b36c948>"
      ]
     },
     "execution_count": 75,
     "metadata": {},
     "output_type": "execute_result"
    },
    {
     "data": {
      "image/png": "[encoded data removed]",
      "text/plain": [
       "<Figure size 432x288 with 1 Axes>"
      ]
     },
     "metadata": {
      "needs_background": "light"
     },
     "output_type": "display_data"
    }
   ],
   "source": [
    "precision = []\n",
    "recall = []\n",
    "f1score = []\n",
    "for threshold in tqdm(np.array(range(100))/100):\n",
    "    predictions = model.predict_proba(X_test)[:,1]\n",
    "    predictions = (predictions > threshold).astype(int)\n",
    "    \n",
    "    precision.append(precision_score(y_test, predictions))\n",
    "    recall.append(recall_score(y_test, predictions)) \n",
    "    f1score.append(f1_score(y_test, predictions))\n",
    "\n",
    "sns.lineplot(x = np.array(range(100))/100, y = precision, color = 'blue')\n",
    "sns.lineplot(x = np.array(range(100))/100, y = recall,color = 'coral')\n",
    "sns.lineplot(x = np.array(range(100))/100, y = f1score,color = 'green')"
   ]
  },
  {
   "cell_type": "code",
   "execution_count": 76,
   "metadata": {},
   "outputs": [
    {
     "name": "stdout",
     "output_type": "stream",
     "text": [
      "0.9908256880733946\n",
      "0.2706766917293233\n",
      "0.42519685039370075\n",
      "0.6456310679611651\n"
     ]
    }
   ],
   "source": [
    "predictions = model.predict_proba(X_test)[:,1]\n",
    "predictions = (predictions > 0.98).astype(int)\n",
    "\n",
    "print(precision_score(y_test, predictions))\n",
    "print(recall_score(y_test, predictions))\n",
    "print(f1_score(y_test, predictions))\n",
    "print(accuracy_score(y_test, predictions))"
   ]
  },
  {
   "cell_type": "code",
   "execution_count": 40,
   "metadata": {},
   "outputs": [],
   "source": [
    "# # split the data into (80%)train and (20%)test\n",
    "# from sklearn.model_selection import train_test_split\n",
    "\n",
    "# x_train ,x_test ,y_train, y_test = train_test_split(x , y ,test_size =0.2, random_state=42)\n",
    "# print(y_train)"
   ]
  },
  {
   "cell_type": "code",
   "execution_count": 36,
   "metadata": {},
   "outputs": [],
   "source": [
    "# # Spot Check Algorithms\n",
    "# from sklearn.model_selection import StratifiedKFold\n",
    "# from sklearn.model_selection import cross_val_score\n",
    "# from sklearn.linear_model import LogisticRegression\n",
    "# from sklearn.ensemble import AdaBoostClassifier\n",
    "# from sklearn.ensemble import RandomForestClassifier\n",
    "# from xgboost import XGBClassifier\n",
    "\n",
    "\n",
    "# models = []\n",
    "# models.append(('LR', LogisticRegression()))\n",
    "# models.append(('XGB', XGBClassifier()))\n",
    "# models.append(('ADA', AdaBoostClassifier()))\n",
    "# models.append(('RF', RandomForestClassifier()))\n",
    "# # evaluate each model in turn\n",
    "# results = []\n",
    "# names = []\n",
    "# for name, model in models:\n",
    "# \tkfold = StratifiedKFold(n_splits=5, random_state=42, shuffle=True)\n",
    "# \tcv_results = cross_val_score(model, x_train, y_train, cv=kfold, scoring='accuracy')\n",
    "# \tresults.append(cv_results)\n",
    "# \tnames.append(name)\n",
    "# \tprint('%s: %f (%f)' % (name, cv_results.mean(), cv_results.std()))"
   ]
  },
  {
   "cell_type": "code",
   "execution_count": 37,
   "metadata": {},
   "outputs": [],
   "source": [
    "# #Applying SMOTE(OverSampling Technique) on RF\n",
    "# smt = SMOTE()\n",
    "# X_train, y_train = smt.fit_sample(x_train, y_train)"
   ]
  },
  {
   "cell_type": "code",
   "execution_count": 38,
   "metadata": {},
   "outputs": [],
   "source": [
    "# #both having equal amount of records\n",
    "# np.bincount(y_train)"
   ]
  },
  {
   "cell_type": "code",
   "execution_count": 39,
   "metadata": {},
   "outputs": [],
   "source": [
    "# models = []\n",
    "# models.append(('LR', LogisticRegression()))\n",
    "# models.append(('XGB', XGBClassifier()))\n",
    "# models.append(('ADA', AdaBoostClassifier()))\n",
    "# models.append(('RF', RandomForestClassifier()))\n",
    "# # evaluate each model in turn\n",
    "# results = []\n",
    "# names = []\n",
    "# for name, model in models:\n",
    "# \tkfold = StratifiedKFold(n_splits=5, random_state=42, shuffle=True)\n",
    "# \tcv_results = cross_val_score(model, X_train, y_train, cv=kfold, scoring='accuracy')\n",
    "# \tresults.append(cv_results)\n",
    "# \tnames.append(name)\n",
    "# \tprint('%s: %f (%f)' % (name, cv_results.mean(), cv_results.std()))"
   ]
  },
  {
   "cell_type": "code",
   "execution_count": 91,
   "metadata": {},
   "outputs": [
    {
     "name": "stdout",
     "output_type": "stream",
     "text": [
      "1867    0\n",
      "1571    0\n",
      "5407    0\n",
      "5047    1\n",
      "3528    0\n",
      "       ..\n",
      "4931    0\n",
      "3264    0\n",
      "1653    0\n",
      "2607    1\n",
      "2732    1\n",
      "Name: Churn, Length: 4507, dtype: int32\n"
     ]
    }
   ],
   "source": [
    "# split the data into (80%)train and (20%)test\n",
    "from sklearn.model_selection import train_test_split\n",
    "\n",
    "X_train ,X_test ,y_train, y_test = train_test_split(x , y ,test_size =0.2, random_state=0)\n",
    "print(y_train)"
   ]
  },
  {
   "cell_type": "code",
   "execution_count": 95,
   "metadata": {},
   "outputs": [
    {
     "data": {
      "text/plain": [
       "0.7950310559006211"
      ]
     },
     "execution_count": 95,
     "metadata": {},
     "output_type": "execute_result"
    }
   ],
   "source": [
    "from xgboost import XGBClassifier\n",
    "from sklearn.metrics import accuracy_score\n",
    "import sklearn.metrics as metrics\n",
    "model_x = XGBClassifier()\n",
    "model_x.fit(X_train, y_train)\n",
    "preds = model_x.predict(X_test)\n",
    "metrics.accuracy_score(y_test, preds)"
   ]
  },
  {
   "cell_type": "code",
   "execution_count": 93,
   "metadata": {},
   "outputs": [
    {
     "name": "stdout",
     "output_type": "stream",
     "text": [
      "0.7950310559006211\n"
     ]
    }
   ],
   "source": [
    "# Running logistic regression model\n",
    "from sklearn.linear_model import LogisticRegression\n",
    "model_lr = LogisticRegression()\n",
    "result = model_lr.fit(X_train, y_train)\n",
    "from sklearn import metrics\n",
    "prediction_test = model.predict(X_test)\n",
    "# Print the prediction accuracy\n",
    "print (metrics.accuracy_score(y_test, prediction_test))"
   ]
  },
  {
   "cell_type": "code",
   "execution_count": 99,
   "metadata": {},
   "outputs": [
    {
     "name": "stdout",
     "output_type": "stream",
     "text": [
      "0.7968056787932565\n"
     ]
    }
   ],
   "source": [
    "from sklearn.ensemble import RandomForestClassifier\n",
    "X_train, X_test, y_train, y_test = train_test_split(x, y, test_size=0.2, random_state=101)\n",
    "model_rf = RandomForestClassifier(n_estimators=1000 , oob_score = True, n_jobs = -1,\n",
    "                                  random_state =50, max_features = \"auto\",\n",
    "                                  max_leaf_nodes = 30)\n",
    "model_rf.fit(X_train, y_train)\n",
    "\n",
    "# Make predictions\n",
    "y_pred= model_rf.predict(X_test)\n",
    "print (metrics.accuracy_score(y_test, y_pred))"
   ]
  },
  {
   "cell_type": "code",
   "execution_count": 104,
   "metadata": {},
   "outputs": [
    {
     "name": "stdout",
     "output_type": "stream",
     "text": [
      "Precision is  0.668\n",
      "              precision    recall  f1-score   support\n",
      "\n",
      "           0       0.84      0.90      0.87       816\n",
      "           1       0.67      0.54      0.60       311\n",
      "\n",
      "    accuracy                           0.80      1127\n",
      "   macro avg       0.75      0.72      0.73      1127\n",
      "weighted avg       0.79      0.80      0.79      1127\n",
      "\n"
     ]
    }
   ],
   "source": [
    "from sklearn.ensemble import RandomForestClassifier,AdaBoostClassifier,GradientBoostingClassifier\n",
    "\n",
    "gbc = GradientBoostingClassifier(n_estimators=100)\n",
    "gbc.fit(X_train, y_train)\n",
    "y_pred_gbc = gbc.predict(X_test)\n",
    "precision_gbc=precision_score(y_test, y_pred_gbc)\n",
    "print(\"Precision is \",precision_gbc)\n",
    "print(classification_report(y_test, y_pred_gbc))"
   ]
  },
  {
   "cell_type": "code",
   "execution_count": 106,
   "metadata": {},
   "outputs": [
    {
     "name": "stdout",
     "output_type": "stream",
     "text": [
      "precision is : 0.5868725868725869\n",
      "acuracy is : 0.7639751552795031\n",
      "recall is : 0.4887459807073955\n",
      "f1 score is : 0.5333333333333333\n"
     ]
    },
    {
     "data": {
      "image/png": "[encoded data removed]",
      "text/plain": [
       "<Figure size 432x288 with 1 Axes>"
      ]
     },
     "metadata": {
      "needs_background": "light"
     },
     "output_type": "display_data"
    }
   ],
   "source": [
    "## from sklearn.ensemble import AdaBoostClassifier\n",
    "adc = AdaBoostClassifier(base_estimator = gbc, n_estimators=100)\n",
    "adc.fit(X_train, y_train)\n",
    "y_pred_adc = adc.predict(X_test)\n",
    "accuracy_en=adc.score(X_test,y_test)\n",
    "recall_en= recall_score(y_test,y_pred_adc)\n",
    "precision_en= precision_score(y_test,y_pred_adc)\n",
    "f1_en= f1_score(y_test,y_pred_adc)\n",
    "\n",
    "#plots\n",
    "# plot_cm(adc, y_pred_adc)\n",
    "#After Sampling    \n",
    "print(\"precision is :\",precision_en)\n",
    "print(\"acuracy is :\",accuracy_en)\n",
    "print(\"recall is :\",recall_en)\n",
    "print(\"f1 score is :\",f1_en)\n",
    "\n",
    "# Plot the auc-roc curve\n",
    "score = roc_auc_score(y_pred_adc , y_test)\n",
    "y_pred_proba = adc.predict_proba(X_test)[:,1]\n",
    "fpr, tpr, _ = metrics.roc_curve(y_test,  y_pred_proba)\n",
    "auc = metrics.roc_auc_score(y_test, y_pred_proba)\n",
    "plt.plot(fpr,tpr,label=\"Adaboost with ensamble, auc=\"+str(auc))\n",
    "plt.xlabel('False Positive Rate')\n",
    "plt.ylabel('True Positive Rate')\n",
    "plt.legend(loc=4)\n",
    "plt.show()"
   ]
  },
  {
   "cell_type": "code",
   "execution_count": 119,
   "metadata": {},
   "outputs": [
    {
     "name": "stdout",
     "output_type": "stream",
     "text": [
      "precision is : 0.6029411764705882\n",
      "acuracy is : 0.7693672383205205\n",
      "recall is : 0.5189873417721519\n",
      "f1 score is : 0.5578231292517007\n"
     ]
    },
    {
     "data": {
      "image/png": "[encoded data removed]",
      "text/plain": [
       "<Figure size 432x288 with 1 Axes>"
      ]
     },
     "metadata": {
      "needs_background": "light"
     },
     "output_type": "display_data"
    },
    {
     "name": "stdout",
     "output_type": "stream",
     "text": [
      "Classification_report rf with normal xgboost\n",
      "              precision    recall  f1-score   support\n",
      "\n",
      "           0       0.82      0.87      0.84      1217\n",
      "           1       0.60      0.52      0.56       474\n",
      "\n",
      "    accuracy                           0.77      1691\n",
      "   macro avg       0.71      0.69      0.70      1691\n",
      "weighted avg       0.76      0.77      0.76      1691\n",
      "\n"
     ]
    }
   ],
   "source": [
    "#Model 1\n",
    "from imblearn.over_sampling import SMOTE\n",
    "from xgboost import XGBClassifier\n",
    "xgb = XGBClassifier(random_state = 42, n_jobs = -1)\n",
    "\n",
    "X_train, X_test, y_train, y_test = train_test_split(X, y, test_size = 0.3, random_state = 42)\n",
    "\n",
    "#fit the best models so far\n",
    "xgb.fit(X_train, y_train)\n",
    "\n",
    "\n",
    "y_pred_xg = xgb.predict(X_test)\n",
    "accuracy_xg=xgb.score(X_test,y_test)\n",
    "recall_xg= recall_score(y_test,y_pred_xg )\n",
    "precision_xg= precision_score(y_test,y_pred_xg )\n",
    "f1_xg= f1_score(y_test,y_pred_xg)\n",
    "\n",
    "# #plots\n",
    "# plot_cm(xgb, y_pred_xg)\n",
    "#After Sampling    \n",
    "print(\"precision is :\",precision_xg)\n",
    "print(\"acuracy is :\",accuracy_xg)\n",
    "print(\"recall is :\",recall_xg)\n",
    "print(\"f1 score is :\",f1_xg)\n",
    "\n",
    "# Plot the auc-roc curve\n",
    "score = roc_auc_score(y_pred_xg , y_test)\n",
    "y_pred_proba = xgb.predict_proba(X_test)[:,1]\n",
    "fpr, tpr, _ = metrics.roc_curve(y_test,  y_pred_proba)\n",
    "auc = metrics.roc_auc_score(y_test, y_pred_proba)\n",
    "plt.plot(fpr,tpr,label=\"XGboost with ensamble, auc=\"+str(auc))\n",
    "plt.xlabel('False Positive Rate')\n",
    "plt.ylabel('True Positive Rate')\n",
    "plt.legend(loc=4)\n",
    "plt.show()\n",
    "print('Classification_report rf with normal xgboost' + '\\n' + classification_report(y_test,y_pred_xg))"
   ]
  },
  {
   "cell_type": "code",
   "execution_count": 121,
   "metadata": {},
   "outputs": [
    {
     "name": "stdout",
     "output_type": "stream",
     "text": [
      "precision is : 0.6245059288537549\n",
      "acuracy is : 0.7950310559006211\n",
      "recall is : 0.5374149659863946\n",
      "f1 score is : 0.5776965265082267\n"
     ]
    },
    {
     "data": {
      "image/png": "[encoded data removed]",
      "text/plain": [
       "<Figure size 432x288 with 1 Axes>"
      ]
     },
     "metadata": {
      "needs_background": "light"
     },
     "output_type": "display_data"
    },
    {
     "name": "stdout",
     "output_type": "stream",
     "text": [
      "Classification_report rf with normal xgboost\n",
      "              precision    recall  f1-score   support\n",
      "\n",
      "           0       0.84      0.89      0.86       833\n",
      "           1       0.62      0.54      0.58       294\n",
      "\n",
      "    accuracy                           0.80      1127\n",
      "   macro avg       0.73      0.71      0.72      1127\n",
      "weighted avg       0.79      0.80      0.79      1127\n",
      "\n"
     ]
    }
   ],
   "source": [
    "#Model 2\n",
    "from imblearn.over_sampling import SMOTE\n",
    "from xgboost import XGBClassifier\n",
    "xgb = XGBClassifier(random_state = 42, n_jobs = -1)\n",
    "\n",
    "X_train, X_test, y_train, y_test = train_test_split(X, y, test_size = 0.2, random_state = 0)\n",
    "\n",
    "#fit the best models so far\n",
    "xgb.fit(X_train, y_train)\n",
    "\n",
    "\n",
    "y_pred_xg = xgb.predict(X_test)\n",
    "accuracy_xg=xgb.score(X_test,y_test)\n",
    "recall_xg= recall_score(y_test,y_pred_xg )\n",
    "precision_xg= precision_score(y_test,y_pred_xg )\n",
    "f1_xg= f1_score(y_test,y_pred_xg)\n",
    "\n",
    "# #plots\n",
    "# plot_cm(xgb, y_pred_xg)\n",
    "#After Sampling    \n",
    "print(\"precision is :\",precision_xg)\n",
    "print(\"acuracy is :\",accuracy_xg)\n",
    "print(\"recall is :\",recall_xg)\n",
    "print(\"f1 score is :\",f1_xg)\n",
    "\n",
    "# Plot the auc-roc curve\n",
    "score = roc_auc_score(y_pred_xg , y_test)\n",
    "y_pred_proba = xgb.predict_proba(X_test)[:,1]\n",
    "fpr, tpr, _ = metrics.roc_curve(y_test,  y_pred_proba)\n",
    "auc = metrics.roc_auc_score(y_test, y_pred_proba)\n",
    "plt.plot(fpr,tpr,label=\"XGboost with ensamble, auc=\"+str(auc))\n",
    "plt.xlabel('False Positive Rate')\n",
    "plt.ylabel('True Positive Rate')\n",
    "plt.legend(loc=4)\n",
    "plt.show()\n",
    "print('Classification_report rf with normal xgboost' + '\\n' + classification_report(y_test,y_pred_xg))"
   ]
  },
  {
   "cell_type": "code",
   "execution_count": 122,
   "metadata": {},
   "outputs": [
    {
     "name": "stdout",
     "output_type": "stream",
     "text": [
      "precision is : 0.5663082437275986\n",
      "acuracy is : 0.7542147293700089\n",
      "recall is : 0.5031847133757962\n",
      "f1 score is : 0.5328836424957842\n"
     ]
    },
    {
     "data": {
      "image/png": "[encoded data removed]",
      "text/plain": [
       "<Figure size 432x288 with 1 Axes>"
      ]
     },
     "metadata": {
      "needs_background": "light"
     },
     "output_type": "display_data"
    },
    {
     "name": "stdout",
     "output_type": "stream",
     "text": [
      "Classification_report rf with normal xgboost\n",
      "              precision    recall  f1-score   support\n",
      "\n",
      "           0       0.82      0.85      0.83       813\n",
      "           1       0.57      0.50      0.53       314\n",
      "\n",
      "    accuracy                           0.75      1127\n",
      "   macro avg       0.69      0.68      0.68      1127\n",
      "weighted avg       0.75      0.75      0.75      1127\n",
      "\n"
     ]
    }
   ],
   "source": [
    "#Final Model 3 which got submited and gave maximum accuracy\n",
    "from imblearn.over_sampling import SMOTE\n",
    "from xgboost import XGBClassifier\n",
    "xgb = XGBClassifier(random_state = 9, n_jobs = -1)\n",
    "\n",
    "X_train, X_test, y_train, y_test = train_test_split(X, y, test_size = 0.2, random_state = 42)\n",
    "\n",
    "#fit the best models so far\n",
    "xgb.fit(X_train, y_train)\n",
    "\n",
    "\n",
    "y_pred_xg = xgb.predict(X_test)\n",
    "accuracy_xg=xgb.score(X_test,y_test)\n",
    "recall_xg= recall_score(y_test,y_pred_xg )\n",
    "precision_xg= precision_score(y_test,y_pred_xg )\n",
    "f1_xg= f1_score(y_test,y_pred_xg)\n",
    "\n",
    "# #plots\n",
    "# plot_cm(xgb, y_pred_xg)\n",
    "#After Sampling    \n",
    "print(\"precision is :\",precision_xg)\n",
    "print(\"acuracy is :\",accuracy_xg)\n",
    "print(\"recall is :\",recall_xg)\n",
    "print(\"f1 score is :\",f1_xg)\n",
    "\n",
    "# Plot the auc-roc curve\n",
    "score = roc_auc_score(y_pred_xg , y_test)\n",
    "y_pred_proba = xgb.predict_proba(X_test)[:,1]\n",
    "fpr, tpr, _ = metrics.roc_curve(y_test,  y_pred_proba)\n",
    "auc = metrics.roc_auc_score(y_test, y_pred_proba)\n",
    "plt.plot(fpr,tpr,label=\"XGboost with ensamble, auc=\"+str(auc))\n",
    "plt.xlabel('False Positive Rate')\n",
    "plt.ylabel('True Positive Rate')\n",
    "plt.legend(loc=4)\n",
    "plt.show()\n",
    "print('Classification_report rf with normal xgboost' + '\\n' + classification_report(y_test,y_pred_xg))"
   ]
  },
  {
   "cell_type": "markdown",
   "metadata": {},
   "source": [
    "### Prediction on the test data and creating the sample submission file.\n",
    "\n",
    "- Load the test data and store the `Id` column in a separate variable.\n",
    "- Perform the same operations on the test data that you have performed on the train data.\n",
    "- Create the submission file as a `csv` file consisting of the `Id` column from the test data and your prediction as the second column."
   ]
  },
  {
   "cell_type": "code",
   "execution_count": 50,
   "metadata": {},
   "outputs": [
    {
     "data": {
      "text/html": [
       "<div>\n",
       "<style scoped>\n",
       "    .dataframe tbody tr th:only-of-type {\n",
       "        vertical-align: middle;\n",
       "    }\n",
       "\n",
       "    .dataframe tbody tr th {\n",
       "        vertical-align: top;\n",
       "    }\n",
       "\n",
       "    .dataframe thead th {\n",
       "        text-align: right;\n",
       "    }\n",
       "</style>\n",
       "<table border=\"1\" class=\"dataframe\">\n",
       "  <thead>\n",
       "    <tr style=\"text-align: right;\">\n",
       "      <th></th>\n",
       "      <th>Id</th>\n",
       "      <th>customerID</th>\n",
       "      <th>gender</th>\n",
       "      <th>SeniorCitizen</th>\n",
       "      <th>Partner</th>\n",
       "      <th>Dependents</th>\n",
       "      <th>tenure</th>\n",
       "      <th>PhoneService</th>\n",
       "      <th>MultipleLines</th>\n",
       "      <th>InternetService</th>\n",
       "      <th>...</th>\n",
       "      <th>OnlineBackup</th>\n",
       "      <th>DeviceProtection</th>\n",
       "      <th>TechSupport</th>\n",
       "      <th>StreamingTV</th>\n",
       "      <th>StreamingMovies</th>\n",
       "      <th>Contract</th>\n",
       "      <th>PaperlessBilling</th>\n",
       "      <th>PaymentMethod</th>\n",
       "      <th>MonthlyCharges</th>\n",
       "      <th>TotalCharges</th>\n",
       "    </tr>\n",
       "  </thead>\n",
       "  <tbody>\n",
       "    <tr>\n",
       "      <th>0</th>\n",
       "      <td>4539</td>\n",
       "      <td>4355-HBJHH</td>\n",
       "      <td>Male</td>\n",
       "      <td>0</td>\n",
       "      <td>Yes</td>\n",
       "      <td>Yes</td>\n",
       "      <td>67</td>\n",
       "      <td>Yes</td>\n",
       "      <td>Yes</td>\n",
       "      <td>DSL</td>\n",
       "      <td>...</td>\n",
       "      <td>No</td>\n",
       "      <td>Yes</td>\n",
       "      <td>No</td>\n",
       "      <td>Yes</td>\n",
       "      <td>Yes</td>\n",
       "      <td>Two year</td>\n",
       "      <td>Yes</td>\n",
       "      <td>Electronic check</td>\n",
       "      <td>79.70</td>\n",
       "      <td>5293.4</td>\n",
       "    </tr>\n",
       "    <tr>\n",
       "      <th>1</th>\n",
       "      <td>1802</td>\n",
       "      <td>7492-TAFJD</td>\n",
       "      <td>Male</td>\n",
       "      <td>0</td>\n",
       "      <td>Yes</td>\n",
       "      <td>Yes</td>\n",
       "      <td>7</td>\n",
       "      <td>No</td>\n",
       "      <td>No phone service</td>\n",
       "      <td>DSL</td>\n",
       "      <td>...</td>\n",
       "      <td>Yes</td>\n",
       "      <td>Yes</td>\n",
       "      <td>No</td>\n",
       "      <td>No</td>\n",
       "      <td>No</td>\n",
       "      <td>Two year</td>\n",
       "      <td>No</td>\n",
       "      <td>Mailed check</td>\n",
       "      <td>38.55</td>\n",
       "      <td>280</td>\n",
       "    </tr>\n",
       "    <tr>\n",
       "      <th>2</th>\n",
       "      <td>1380</td>\n",
       "      <td>1131-SUEKT</td>\n",
       "      <td>Male</td>\n",
       "      <td>0</td>\n",
       "      <td>Yes</td>\n",
       "      <td>Yes</td>\n",
       "      <td>61</td>\n",
       "      <td>Yes</td>\n",
       "      <td>No</td>\n",
       "      <td>Fiber optic</td>\n",
       "      <td>...</td>\n",
       "      <td>Yes</td>\n",
       "      <td>No</td>\n",
       "      <td>Yes</td>\n",
       "      <td>Yes</td>\n",
       "      <td>Yes</td>\n",
       "      <td>One year</td>\n",
       "      <td>Yes</td>\n",
       "      <td>Bank transfer (automatic)</td>\n",
       "      <td>98.45</td>\n",
       "      <td>6145.2</td>\n",
       "    </tr>\n",
       "    <tr>\n",
       "      <th>3</th>\n",
       "      <td>5305</td>\n",
       "      <td>9027-TMATR</td>\n",
       "      <td>Female</td>\n",
       "      <td>0</td>\n",
       "      <td>Yes</td>\n",
       "      <td>No</td>\n",
       "      <td>43</td>\n",
       "      <td>Yes</td>\n",
       "      <td>No</td>\n",
       "      <td>DSL</td>\n",
       "      <td>...</td>\n",
       "      <td>No</td>\n",
       "      <td>Yes</td>\n",
       "      <td>Yes</td>\n",
       "      <td>Yes</td>\n",
       "      <td>Yes</td>\n",
       "      <td>Two year</td>\n",
       "      <td>Yes</td>\n",
       "      <td>Electronic check</td>\n",
       "      <td>78.80</td>\n",
       "      <td>3460.3</td>\n",
       "    </tr>\n",
       "    <tr>\n",
       "      <th>4</th>\n",
       "      <td>1960</td>\n",
       "      <td>5846-QFDFI</td>\n",
       "      <td>Female</td>\n",
       "      <td>0</td>\n",
       "      <td>Yes</td>\n",
       "      <td>Yes</td>\n",
       "      <td>33</td>\n",
       "      <td>Yes</td>\n",
       "      <td>Yes</td>\n",
       "      <td>Fiber optic</td>\n",
       "      <td>...</td>\n",
       "      <td>Yes</td>\n",
       "      <td>Yes</td>\n",
       "      <td>Yes</td>\n",
       "      <td>No</td>\n",
       "      <td>No</td>\n",
       "      <td>Month-to-month</td>\n",
       "      <td>No</td>\n",
       "      <td>Credit card (automatic)</td>\n",
       "      <td>88.60</td>\n",
       "      <td>2888.7</td>\n",
       "    </tr>\n",
       "  </tbody>\n",
       "</table>\n",
       "<p>5 rows × 21 columns</p>\n",
       "</div>"
      ],
      "text/plain": [
       "     Id  customerID  gender  SeniorCitizen Partner Dependents  tenure  \\\n",
       "0  4539  4355-HBJHH    Male              0     Yes        Yes      67   \n",
       "1  1802  7492-TAFJD    Male              0     Yes        Yes       7   \n",
       "2  1380  1131-SUEKT    Male              0     Yes        Yes      61   \n",
       "3  5305  9027-TMATR  Female              0     Yes         No      43   \n",
       "4  1960  5846-QFDFI  Female              0     Yes        Yes      33   \n",
       "\n",
       "  PhoneService     MultipleLines InternetService  ... OnlineBackup  \\\n",
       "0          Yes               Yes             DSL  ...           No   \n",
       "1           No  No phone service             DSL  ...          Yes   \n",
       "2          Yes                No     Fiber optic  ...          Yes   \n",
       "3          Yes                No             DSL  ...           No   \n",
       "4          Yes               Yes     Fiber optic  ...          Yes   \n",
       "\n",
       "  DeviceProtection TechSupport StreamingTV StreamingMovies        Contract  \\\n",
       "0              Yes          No         Yes             Yes        Two year   \n",
       "1              Yes          No          No              No        Two year   \n",
       "2               No         Yes         Yes             Yes        One year   \n",
       "3              Yes         Yes         Yes             Yes        Two year   \n",
       "4              Yes         Yes          No              No  Month-to-month   \n",
       "\n",
       "  PaperlessBilling              PaymentMethod MonthlyCharges  TotalCharges  \n",
       "0              Yes           Electronic check          79.70        5293.4  \n",
       "1               No               Mailed check          38.55           280  \n",
       "2              Yes  Bank transfer (automatic)          98.45        6145.2  \n",
       "3              Yes           Electronic check          78.80        3460.3  \n",
       "4               No    Credit card (automatic)          88.60        2888.7  \n",
       "\n",
       "[5 rows x 21 columns]"
      ]
     },
     "execution_count": 50,
     "metadata": {},
     "output_type": "execute_result"
    }
   ],
   "source": [
    "test_data=pd.read_csv('test.csv')\n",
    "test_data.head()"
   ]
  },
  {
   "cell_type": "code",
   "execution_count": 51,
   "metadata": {},
   "outputs": [],
   "source": [
    "test_data.drop(['Id'],axis = 1, inplace = True)"
   ]
  },
  {
   "cell_type": "code",
   "execution_count": 52,
   "metadata": {},
   "outputs": [],
   "source": [
    "test_data.drop(['customerID'],axis = 1, inplace = True)"
   ]
  },
  {
   "cell_type": "code",
   "execution_count": 53,
   "metadata": {},
   "outputs": [],
   "source": [
    "test=pd.read_csv('test.csv')"
   ]
  },
  {
   "cell_type": "code",
   "execution_count": 54,
   "metadata": {},
   "outputs": [],
   "source": [
    "id_ = test['Id']"
   ]
  },
  {
   "cell_type": "code",
   "execution_count": 55,
   "metadata": {},
   "outputs": [],
   "source": [
    "# covert all catogorical data into numeric data\n",
    "from sklearn.preprocessing import LabelEncoder\n",
    "\n",
    "for column in test_data.columns:\n",
    "  if test_data[column].dtype == np.number:\n",
    "    continue\n",
    "  test_data[column] = LabelEncoder().fit_transform(test_data[column])"
   ]
  },
  {
   "cell_type": "code",
   "execution_count": 62,
   "metadata": {},
   "outputs": [
    {
     "data": {
      "text/html": [
       "<div>\n",
       "<style scoped>\n",
       "    .dataframe tbody tr th:only-of-type {\n",
       "        vertical-align: middle;\n",
       "    }\n",
       "\n",
       "    .dataframe tbody tr th {\n",
       "        vertical-align: top;\n",
       "    }\n",
       "\n",
       "    .dataframe thead th {\n",
       "        text-align: right;\n",
       "    }\n",
       "</style>\n",
       "<table border=\"1\" class=\"dataframe\">\n",
       "  <thead>\n",
       "    <tr style=\"text-align: right;\">\n",
       "      <th></th>\n",
       "      <th>gender</th>\n",
       "      <th>SeniorCitizen</th>\n",
       "      <th>Partner</th>\n",
       "      <th>Dependents</th>\n",
       "      <th>tenure</th>\n",
       "      <th>PhoneService</th>\n",
       "      <th>MultipleLines</th>\n",
       "      <th>InternetService</th>\n",
       "      <th>OnlineSecurity</th>\n",
       "      <th>OnlineBackup</th>\n",
       "      <th>DeviceProtection</th>\n",
       "      <th>TechSupport</th>\n",
       "      <th>StreamingTV</th>\n",
       "      <th>StreamingMovies</th>\n",
       "      <th>Contract</th>\n",
       "      <th>PaperlessBilling</th>\n",
       "      <th>PaymentMethod</th>\n",
       "      <th>MonthlyCharges</th>\n",
       "      <th>TotalCharges</th>\n",
       "    </tr>\n",
       "  </thead>\n",
       "  <tbody>\n",
       "    <tr>\n",
       "      <th>0</th>\n",
       "      <td>1</td>\n",
       "      <td>0</td>\n",
       "      <td>1</td>\n",
       "      <td>1</td>\n",
       "      <td>67</td>\n",
       "      <td>1</td>\n",
       "      <td>2</td>\n",
       "      <td>0</td>\n",
       "      <td>2</td>\n",
       "      <td>0</td>\n",
       "      <td>2</td>\n",
       "      <td>0</td>\n",
       "      <td>2</td>\n",
       "      <td>2</td>\n",
       "      <td>2</td>\n",
       "      <td>1</td>\n",
       "      <td>2</td>\n",
       "      <td>79.70</td>\n",
       "      <td>936</td>\n",
       "    </tr>\n",
       "    <tr>\n",
       "      <th>1</th>\n",
       "      <td>1</td>\n",
       "      <td>0</td>\n",
       "      <td>1</td>\n",
       "      <td>1</td>\n",
       "      <td>7</td>\n",
       "      <td>0</td>\n",
       "      <td>1</td>\n",
       "      <td>0</td>\n",
       "      <td>2</td>\n",
       "      <td>2</td>\n",
       "      <td>2</td>\n",
       "      <td>0</td>\n",
       "      <td>0</td>\n",
       "      <td>0</td>\n",
       "      <td>2</td>\n",
       "      <td>0</td>\n",
       "      <td>3</td>\n",
       "      <td>38.55</td>\n",
       "      <td>516</td>\n",
       "    </tr>\n",
       "    <tr>\n",
       "      <th>2</th>\n",
       "      <td>1</td>\n",
       "      <td>0</td>\n",
       "      <td>1</td>\n",
       "      <td>1</td>\n",
       "      <td>61</td>\n",
       "      <td>1</td>\n",
       "      <td>0</td>\n",
       "      <td>1</td>\n",
       "      <td>0</td>\n",
       "      <td>2</td>\n",
       "      <td>0</td>\n",
       "      <td>2</td>\n",
       "      <td>2</td>\n",
       "      <td>2</td>\n",
       "      <td>1</td>\n",
       "      <td>1</td>\n",
       "      <td>0</td>\n",
       "      <td>98.45</td>\n",
       "      <td>1078</td>\n",
       "    </tr>\n",
       "    <tr>\n",
       "      <th>3</th>\n",
       "      <td>0</td>\n",
       "      <td>0</td>\n",
       "      <td>1</td>\n",
       "      <td>0</td>\n",
       "      <td>43</td>\n",
       "      <td>1</td>\n",
       "      <td>0</td>\n",
       "      <td>0</td>\n",
       "      <td>2</td>\n",
       "      <td>0</td>\n",
       "      <td>2</td>\n",
       "      <td>2</td>\n",
       "      <td>2</td>\n",
       "      <td>2</td>\n",
       "      <td>2</td>\n",
       "      <td>1</td>\n",
       "      <td>2</td>\n",
       "      <td>78.80</td>\n",
       "      <td>644</td>\n",
       "    </tr>\n",
       "    <tr>\n",
       "      <th>4</th>\n",
       "      <td>0</td>\n",
       "      <td>0</td>\n",
       "      <td>1</td>\n",
       "      <td>1</td>\n",
       "      <td>33</td>\n",
       "      <td>1</td>\n",
       "      <td>2</td>\n",
       "      <td>1</td>\n",
       "      <td>0</td>\n",
       "      <td>2</td>\n",
       "      <td>2</td>\n",
       "      <td>2</td>\n",
       "      <td>0</td>\n",
       "      <td>0</td>\n",
       "      <td>0</td>\n",
       "      <td>0</td>\n",
       "      <td>1</td>\n",
       "      <td>88.60</td>\n",
       "      <td>527</td>\n",
       "    </tr>\n",
       "    <tr>\n",
       "      <th>...</th>\n",
       "      <td>...</td>\n",
       "      <td>...</td>\n",
       "      <td>...</td>\n",
       "      <td>...</td>\n",
       "      <td>...</td>\n",
       "      <td>...</td>\n",
       "      <td>...</td>\n",
       "      <td>...</td>\n",
       "      <td>...</td>\n",
       "      <td>...</td>\n",
       "      <td>...</td>\n",
       "      <td>...</td>\n",
       "      <td>...</td>\n",
       "      <td>...</td>\n",
       "      <td>...</td>\n",
       "      <td>...</td>\n",
       "      <td>...</td>\n",
       "      <td>...</td>\n",
       "      <td>...</td>\n",
       "    </tr>\n",
       "    <tr>\n",
       "      <th>1404</th>\n",
       "      <td>0</td>\n",
       "      <td>0</td>\n",
       "      <td>1</td>\n",
       "      <td>1</td>\n",
       "      <td>58</td>\n",
       "      <td>0</td>\n",
       "      <td>1</td>\n",
       "      <td>0</td>\n",
       "      <td>0</td>\n",
       "      <td>0</td>\n",
       "      <td>2</td>\n",
       "      <td>2</td>\n",
       "      <td>2</td>\n",
       "      <td>2</td>\n",
       "      <td>2</td>\n",
       "      <td>1</td>\n",
       "      <td>1</td>\n",
       "      <td>55.50</td>\n",
       "      <td>585</td>\n",
       "    </tr>\n",
       "    <tr>\n",
       "      <th>1405</th>\n",
       "      <td>0</td>\n",
       "      <td>0</td>\n",
       "      <td>0</td>\n",
       "      <td>0</td>\n",
       "      <td>71</td>\n",
       "      <td>1</td>\n",
       "      <td>2</td>\n",
       "      <td>1</td>\n",
       "      <td>2</td>\n",
       "      <td>2</td>\n",
       "      <td>2</td>\n",
       "      <td>2</td>\n",
       "      <td>2</td>\n",
       "      <td>2</td>\n",
       "      <td>2</td>\n",
       "      <td>1</td>\n",
       "      <td>2</td>\n",
       "      <td>118.65</td>\n",
       "      <td>1317</td>\n",
       "    </tr>\n",
       "    <tr>\n",
       "      <th>1406</th>\n",
       "      <td>0</td>\n",
       "      <td>1</td>\n",
       "      <td>0</td>\n",
       "      <td>0</td>\n",
       "      <td>59</td>\n",
       "      <td>1</td>\n",
       "      <td>2</td>\n",
       "      <td>1</td>\n",
       "      <td>0</td>\n",
       "      <td>2</td>\n",
       "      <td>0</td>\n",
       "      <td>0</td>\n",
       "      <td>0</td>\n",
       "      <td>0</td>\n",
       "      <td>2</td>\n",
       "      <td>1</td>\n",
       "      <td>1</td>\n",
       "      <td>79.20</td>\n",
       "      <td>829</td>\n",
       "    </tr>\n",
       "    <tr>\n",
       "      <th>1407</th>\n",
       "      <td>1</td>\n",
       "      <td>0</td>\n",
       "      <td>0</td>\n",
       "      <td>0</td>\n",
       "      <td>66</td>\n",
       "      <td>1</td>\n",
       "      <td>0</td>\n",
       "      <td>2</td>\n",
       "      <td>1</td>\n",
       "      <td>1</td>\n",
       "      <td>1</td>\n",
       "      <td>1</td>\n",
       "      <td>1</td>\n",
       "      <td>1</td>\n",
       "      <td>2</td>\n",
       "      <td>0</td>\n",
       "      <td>0</td>\n",
       "      <td>19.70</td>\n",
       "      <td>88</td>\n",
       "    </tr>\n",
       "    <tr>\n",
       "      <th>1408</th>\n",
       "      <td>0</td>\n",
       "      <td>0</td>\n",
       "      <td>1</td>\n",
       "      <td>1</td>\n",
       "      <td>34</td>\n",
       "      <td>1</td>\n",
       "      <td>2</td>\n",
       "      <td>2</td>\n",
       "      <td>1</td>\n",
       "      <td>1</td>\n",
       "      <td>1</td>\n",
       "      <td>1</td>\n",
       "      <td>1</td>\n",
       "      <td>1</td>\n",
       "      <td>2</td>\n",
       "      <td>0</td>\n",
       "      <td>1</td>\n",
       "      <td>24.95</td>\n",
       "      <td>1345</td>\n",
       "    </tr>\n",
       "  </tbody>\n",
       "</table>\n",
       "<p>1409 rows × 19 columns</p>\n",
       "</div>"
      ],
      "text/plain": [
       "      gender  SeniorCitizen  Partner  Dependents  tenure  PhoneService  \\\n",
       "0          1              0        1           1      67             1   \n",
       "1          1              0        1           1       7             0   \n",
       "2          1              0        1           1      61             1   \n",
       "3          0              0        1           0      43             1   \n",
       "4          0              0        1           1      33             1   \n",
       "...      ...            ...      ...         ...     ...           ...   \n",
       "1404       0              0        1           1      58             0   \n",
       "1405       0              0        0           0      71             1   \n",
       "1406       0              1        0           0      59             1   \n",
       "1407       1              0        0           0      66             1   \n",
       "1408       0              0        1           1      34             1   \n",
       "\n",
       "      MultipleLines  InternetService  OnlineSecurity  OnlineBackup  \\\n",
       "0                 2                0               2             0   \n",
       "1                 1                0               2             2   \n",
       "2                 0                1               0             2   \n",
       "3                 0                0               2             0   \n",
       "4                 2                1               0             2   \n",
       "...             ...              ...             ...           ...   \n",
       "1404              1                0               0             0   \n",
       "1405              2                1               2             2   \n",
       "1406              2                1               0             2   \n",
       "1407              0                2               1             1   \n",
       "1408              2                2               1             1   \n",
       "\n",
       "      DeviceProtection  TechSupport  StreamingTV  StreamingMovies  Contract  \\\n",
       "0                    2            0            2                2         2   \n",
       "1                    2            0            0                0         2   \n",
       "2                    0            2            2                2         1   \n",
       "3                    2            2            2                2         2   \n",
       "4                    2            2            0                0         0   \n",
       "...                ...          ...          ...              ...       ...   \n",
       "1404                 2            2            2                2         2   \n",
       "1405                 2            2            2                2         2   \n",
       "1406                 0            0            0                0         2   \n",
       "1407                 1            1            1                1         2   \n",
       "1408                 1            1            1                1         2   \n",
       "\n",
       "      PaperlessBilling  PaymentMethod  MonthlyCharges  TotalCharges  \n",
       "0                    1              2           79.70           936  \n",
       "1                    0              3           38.55           516  \n",
       "2                    1              0           98.45          1078  \n",
       "3                    1              2           78.80           644  \n",
       "4                    0              1           88.60           527  \n",
       "...                ...            ...             ...           ...  \n",
       "1404                 1              1           55.50           585  \n",
       "1405                 1              2          118.65          1317  \n",
       "1406                 1              1           79.20           829  \n",
       "1407                 0              0           19.70            88  \n",
       "1408                 0              1           24.95          1345  \n",
       "\n",
       "[1409 rows x 19 columns]"
      ]
     },
     "execution_count": 62,
     "metadata": {},
     "output_type": "execute_result"
    }
   ],
   "source": [
    "test_data"
   ]
  },
  {
   "cell_type": "code",
   "execution_count": 65,
   "metadata": {},
   "outputs": [],
   "source": [
    "# # # Scaler tranformation\n",
    "# # from sklearn.preprocessing import StandardScaler \n",
    "# test_data = scaler.transform(test_data)"
   ]
  },
  {
   "cell_type": "code",
   "execution_count": 123,
   "metadata": {},
   "outputs": [
    {
     "name": "stdout",
     "output_type": "stream",
     "text": [
      "[0 0 0 ... 0 0 0]\n"
     ]
    }
   ],
   "source": [
    "# Code starts here\n",
    "# Predict on the test data\n",
    "y_xgb= xgb.predict(test_data)\n",
    "\n",
    "\n",
    "print(y_xgb)\n",
    "# Create a sample submission file\n",
    "sample_submission = pd.DataFrame({'Id':id_,'Churn':y_xgb})\n",
    "\n",
    "# Convert the sample submission file into a csv file\n",
    "sample_submission.to_csv('churn_xgb.csv',index=False)"
   ]
  },
  {
   "cell_type": "code",
   "execution_count": 124,
   "metadata": {},
   "outputs": [
    {
     "data": {
      "text/plain": [
       "0    1126\n",
       "1     283\n",
       "Name: Churn, dtype: int64"
      ]
     },
     "execution_count": 124,
     "metadata": {},
     "output_type": "execute_result"
    }
   ],
   "source": [
    "# Code Starts here\n",
    "sample_submission['Churn'].value_counts()"
   ]
  },
  {
   "cell_type": "code",
   "execution_count": 4,
   "metadata": {},
   "outputs": [],
   "source": [
    "# Code Starts here\n",
    "\n",
    "\n",
    "\n",
    "# Code ends here"
   ]
  }
 ],
 "metadata": {
  "kernelspec": {
   "display_name": "Python 3",
   "language": "python",
   "name": "python3"
  },
  "language_info": {
   "codemirror_mode": {
    "name": "ipython",
    "version": 3
   },
   "file_extension": ".py",
   "mimetype": "text/x-python",
   "name": "python",
   "nbconvert_exporter": "python",
   "pygments_lexer": "ipython3",
   "version": "3.7.6"
  }
 },
 "nbformat": 4,
 "nbformat_minor": 4
}
